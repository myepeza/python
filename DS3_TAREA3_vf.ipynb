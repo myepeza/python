{
  "nbformat": 4,
  "nbformat_minor": 0,
  "metadata": {
    "colab": {
      "name": "DS3_TAREA3.ipynb",
      "provenance": [],
      "collapsed_sections": [],
      "toc_visible": true
    },
    "kernelspec": {
      "name": "python3",
      "display_name": "Python 3"
    }
  },
  "cells": [
    {
      "cell_type": "markdown",
      "metadata": {
        "id": "7UcH5qd4JZUY"
      },
      "source": [
        "# **Prediciendo el Rating de las aplicaciones en Google PlayStore**\n",
        "\n",
        "![](https://www.datasource.ai/uploads/e33dc9d94a413913f6a65caa5e0d4b75.png)\n",
        "\n",
        "Competencia en [DatasourceAI](https://www.datasource.ai/es/home/data-science-competitions-for-startups/prediciendo-el-rating-de-las-aplicaciones-en-google-play-store):\n",
        "\n",
        "DataSource nos provee un problema de **clasificación** en el que basándonos en los datos de una aplicación, tendremos que predecir su **Rating**\n",
        "\n",
        "La escala del **Rating** se transformó en 2 clases:\n",
        "\n",
        "- **0** si el Rating es menor o igual que 4 (Rating <= 4.0)\n",
        "\n",
        "- **1** si el Rating en mayor a 4 (Rating > 4.0)\n"
      ]
    },
    {
      "cell_type": "markdown",
      "metadata": {
        "id": "DbuIDjYLF7rT"
      },
      "source": [
        "# **Pregunta 1**"
      ]
    },
    {
      "cell_type": "markdown",
      "metadata": {
        "id": "7mMJDyRUHVNV"
      },
      "source": [
        "En esta pregunta tienes que cargar las librerías necesarias para armar tu modelo de clasificación.\n",
        "\n",
        "Importa **Pandas** para leer datos\\\n",
        "Importa **Missingno** para identificar nulos.\\\n",
        "Importa **Seaborn** para identificar outliers.\\\n",
        "Importa **train_test_split** de Sklearn para dividir los datos\\\n",
        "Importa **RandomForestClassifier** y **LogisticRegression** de Sklearn para armar tus modelos\\\n",
        "Importa **accuracy_score** de Sklearn para medir la precisión de tus modelos.  \\\\\n",
        "\n",
        "Finalmente **utiliza pandas** para leer los datos que se encuentran en el siguiente enlace:\n",
        "https://raw.githubusercontent.com/HackSpacePeru/Datasets_intro_Data_Science/master/google_playstore.csv\n"
      ]
    },
    {
      "cell_type": "code",
      "metadata": {
        "id": "dHVAV1EJLAWH"
      },
      "source": [
        "import pandas as pd\n",
        "import missingno as ms\n",
        "import seaborn as sns\n",
        "from sklearn.model_selection import train_test_split\n",
        "from sklearn.linear_model import LogisticRegression\n",
        "from sklearn.ensemble import RandomForestClassifier\n",
        "from sklearn.metrics import accuracy_score\n",
        "import numpy as np\n",
        "import matplotlib.pyplot as plt"
      ],
      "execution_count": 60,
      "outputs": []
    },
    {
      "cell_type": "code",
      "metadata": {
        "id": "mOwLTsAjFpPf",
        "colab": {
          "base_uri": "https://localhost:8080/",
          "height": 417
        },
        "outputId": "116e5cb8-42a5-417b-cf23-52c40b211a3e"
      },
      "source": [
        "data = pd.read_csv(\"https://raw.githubusercontent.com/HackSpacePeru/Datasets_intro_Data_Science/master/google_playstore.csv\")\n",
        "data"
      ],
      "execution_count": 27,
      "outputs": [
        {
          "output_type": "execute_result",
          "data": {
            "text/html": [
              "<div>\n",
              "<style scoped>\n",
              "    .dataframe tbody tr th:only-of-type {\n",
              "        vertical-align: middle;\n",
              "    }\n",
              "\n",
              "    .dataframe tbody tr th {\n",
              "        vertical-align: top;\n",
              "    }\n",
              "\n",
              "    .dataframe thead th {\n",
              "        text-align: right;\n",
              "    }\n",
              "</style>\n",
              "<table border=\"1\" class=\"dataframe\">\n",
              "  <thead>\n",
              "    <tr style=\"text-align: right;\">\n",
              "      <th></th>\n",
              "      <th>Category</th>\n",
              "      <th>Rating</th>\n",
              "      <th>Reviews</th>\n",
              "      <th>Installs</th>\n",
              "      <th>Type</th>\n",
              "      <th>Price</th>\n",
              "      <th>Content Rating</th>\n",
              "      <th>Genres</th>\n",
              "      <th>Android Ver</th>\n",
              "    </tr>\n",
              "  </thead>\n",
              "  <tbody>\n",
              "    <tr>\n",
              "      <th>0</th>\n",
              "      <td>133</td>\n",
              "      <td>1.0</td>\n",
              "      <td>149723</td>\n",
              "      <td>541</td>\n",
              "      <td>Free</td>\n",
              "      <td>0.00</td>\n",
              "      <td>4764</td>\n",
              "      <td>0.768336</td>\n",
              "      <td>761</td>\n",
              "    </tr>\n",
              "    <tr>\n",
              "      <th>1</th>\n",
              "      <td>219</td>\n",
              "      <td>0.0</td>\n",
              "      <td>853</td>\n",
              "      <td>661</td>\n",
              "      <td>Free</td>\n",
              "      <td>0.00</td>\n",
              "      <td>4764</td>\n",
              "      <td>0.641972</td>\n",
              "      <td>1317</td>\n",
              "    </tr>\n",
              "    <tr>\n",
              "      <th>2</th>\n",
              "      <td>67</td>\n",
              "      <td>1.0</td>\n",
              "      <td>61881</td>\n",
              "      <td>356</td>\n",
              "      <td>Free</td>\n",
              "      <td>0.00</td>\n",
              "      <td>4764</td>\n",
              "      <td>1.172458</td>\n",
              "      <td>582</td>\n",
              "    </tr>\n",
              "    <tr>\n",
              "      <th>3</th>\n",
              "      <td>508</td>\n",
              "      <td>0.0</td>\n",
              "      <td>21943</td>\n",
              "      <td>356</td>\n",
              "      <td>Free</td>\n",
              "      <td>0.00</td>\n",
              "      <td>4764</td>\n",
              "      <td>0.757642</td>\n",
              "      <td>381</td>\n",
              "    </tr>\n",
              "    <tr>\n",
              "      <th>4</th>\n",
              "      <td>1114</td>\n",
              "      <td>1.0</td>\n",
              "      <td>6</td>\n",
              "      <td>536</td>\n",
              "      <td>Free</td>\n",
              "      <td>0.00</td>\n",
              "      <td>4764</td>\n",
              "      <td>1.058965</td>\n",
              "      <td>1317</td>\n",
              "    </tr>\n",
              "    <tr>\n",
              "      <th>...</th>\n",
              "      <td>...</td>\n",
              "      <td>...</td>\n",
              "      <td>...</td>\n",
              "      <td>...</td>\n",
              "      <td>...</td>\n",
              "      <td>...</td>\n",
              "      <td>...</td>\n",
              "      <td>...</td>\n",
              "      <td>...</td>\n",
              "    </tr>\n",
              "    <tr>\n",
              "      <th>5783</th>\n",
              "      <td>195</td>\n",
              "      <td>1.0</td>\n",
              "      <td>69119316</td>\n",
              "      <td>12</td>\n",
              "      <td>Free</td>\n",
              "      <td>0.00</td>\n",
              "      <td>4764</td>\n",
              "      <td>0.306677</td>\n",
              "      <td>582</td>\n",
              "    </tr>\n",
              "    <tr>\n",
              "      <th>5784</th>\n",
              "      <td>170</td>\n",
              "      <td>0.0</td>\n",
              "      <td>44</td>\n",
              "      <td>536</td>\n",
              "      <td>Free</td>\n",
              "      <td>0.00</td>\n",
              "      <td>4764</td>\n",
              "      <td>0.644734</td>\n",
              "      <td>143</td>\n",
              "    </tr>\n",
              "    <tr>\n",
              "      <th>5785</th>\n",
              "      <td>46</td>\n",
              "      <td>1.0</td>\n",
              "      <td>3005</td>\n",
              "      <td>623</td>\n",
              "      <td>Paid</td>\n",
              "      <td>2.99</td>\n",
              "      <td>4764</td>\n",
              "      <td>0.754550</td>\n",
              "      <td>846</td>\n",
              "    </tr>\n",
              "    <tr>\n",
              "      <th>5786</th>\n",
              "      <td>1114</td>\n",
              "      <td>1.0</td>\n",
              "      <td>708</td>\n",
              "      <td>298</td>\n",
              "      <td>Free</td>\n",
              "      <td>0.00</td>\n",
              "      <td>4764</td>\n",
              "      <td>0.559427</td>\n",
              "      <td>137</td>\n",
              "    </tr>\n",
              "    <tr>\n",
              "      <th>5787</th>\n",
              "      <td>134</td>\n",
              "      <td>1.0</td>\n",
              "      <td>144</td>\n",
              "      <td>536</td>\n",
              "      <td>Free</td>\n",
              "      <td>0.00</td>\n",
              "      <td>597</td>\n",
              "      <td>0.462860</td>\n",
              "      <td>846</td>\n",
              "    </tr>\n",
              "  </tbody>\n",
              "</table>\n",
              "<p>5788 rows × 9 columns</p>\n",
              "</div>"
            ],
            "text/plain": [
              "      Category  Rating   Reviews  ...  Content Rating    Genres  Android Ver\n",
              "0          133     1.0    149723  ...            4764  0.768336          761\n",
              "1          219     0.0       853  ...            4764  0.641972         1317\n",
              "2           67     1.0     61881  ...            4764  1.172458          582\n",
              "3          508     0.0     21943  ...            4764  0.757642          381\n",
              "4         1114     1.0         6  ...            4764  1.058965         1317\n",
              "...        ...     ...       ...  ...             ...       ...          ...\n",
              "5783       195     1.0  69119316  ...            4764  0.306677          582\n",
              "5784       170     0.0        44  ...            4764  0.644734          143\n",
              "5785        46     1.0      3005  ...            4764  0.754550          846\n",
              "5786      1114     1.0       708  ...            4764  0.559427          137\n",
              "5787       134     1.0       144  ...             597  0.462860          846\n",
              "\n",
              "[5788 rows x 9 columns]"
            ]
          },
          "metadata": {},
          "execution_count": 27
        }
      ]
    },
    {
      "cell_type": "markdown",
      "metadata": {
        "id": "EWiiXfAMIAQt"
      },
      "source": [
        "# **Pregunta 2**"
      ]
    },
    {
      "cell_type": "markdown",
      "metadata": {
        "id": "4QLuE6H9QzUC"
      },
      "source": [
        "En esta pregunta tienes que realizar todo el **Preprocesamiento** requerido para tu modelo de clasificación."
      ]
    },
    {
      "cell_type": "markdown",
      "metadata": {
        "id": "uLL_11QJIE2T"
      },
      "source": [
        " - Detecta y reemplaza aquella columna que tiene datos categóricos\n",
        " - Identifica si hay o no valores nulos en los datos, de ser así, reemplázalos por la media o moda.\n"
      ]
    },
    {
      "cell_type": "code",
      "metadata": {
        "colab": {
          "base_uri": "https://localhost:8080/"
        },
        "id": "txMG20yNpBNK",
        "outputId": "99d3091a-fe13-4efe-a1a0-21826bd4bd77"
      },
      "source": [
        "data.dtypes"
      ],
      "execution_count": 28,
      "outputs": [
        {
          "output_type": "execute_result",
          "data": {
            "text/plain": [
              "Category            int64\n",
              "Rating            float64\n",
              "Reviews             int64\n",
              "Installs            int64\n",
              "Type               object\n",
              "Price             float64\n",
              "Content Rating      int64\n",
              "Genres            float64\n",
              "Android Ver         int64\n",
              "dtype: object"
            ]
          },
          "metadata": {},
          "execution_count": 28
        }
      ]
    },
    {
      "cell_type": "code",
      "metadata": {
        "colab": {
          "base_uri": "https://localhost:8080/",
          "height": 417
        },
        "id": "H8FokeGKr9aD",
        "outputId": "76d3859a-8cb6-41c8-e263-625fd0822cf5"
      },
      "source": [
        "y = pd.get_dummies(data.Type)\n",
        "y"
      ],
      "execution_count": 29,
      "outputs": [
        {
          "output_type": "execute_result",
          "data": {
            "text/html": [
              "<div>\n",
              "<style scoped>\n",
              "    .dataframe tbody tr th:only-of-type {\n",
              "        vertical-align: middle;\n",
              "    }\n",
              "\n",
              "    .dataframe tbody tr th {\n",
              "        vertical-align: top;\n",
              "    }\n",
              "\n",
              "    .dataframe thead th {\n",
              "        text-align: right;\n",
              "    }\n",
              "</style>\n",
              "<table border=\"1\" class=\"dataframe\">\n",
              "  <thead>\n",
              "    <tr style=\"text-align: right;\">\n",
              "      <th></th>\n",
              "      <th>Free</th>\n",
              "      <th>Paid</th>\n",
              "    </tr>\n",
              "  </thead>\n",
              "  <tbody>\n",
              "    <tr>\n",
              "      <th>0</th>\n",
              "      <td>1</td>\n",
              "      <td>0</td>\n",
              "    </tr>\n",
              "    <tr>\n",
              "      <th>1</th>\n",
              "      <td>1</td>\n",
              "      <td>0</td>\n",
              "    </tr>\n",
              "    <tr>\n",
              "      <th>2</th>\n",
              "      <td>1</td>\n",
              "      <td>0</td>\n",
              "    </tr>\n",
              "    <tr>\n",
              "      <th>3</th>\n",
              "      <td>1</td>\n",
              "      <td>0</td>\n",
              "    </tr>\n",
              "    <tr>\n",
              "      <th>4</th>\n",
              "      <td>1</td>\n",
              "      <td>0</td>\n",
              "    </tr>\n",
              "    <tr>\n",
              "      <th>...</th>\n",
              "      <td>...</td>\n",
              "      <td>...</td>\n",
              "    </tr>\n",
              "    <tr>\n",
              "      <th>5783</th>\n",
              "      <td>1</td>\n",
              "      <td>0</td>\n",
              "    </tr>\n",
              "    <tr>\n",
              "      <th>5784</th>\n",
              "      <td>1</td>\n",
              "      <td>0</td>\n",
              "    </tr>\n",
              "    <tr>\n",
              "      <th>5785</th>\n",
              "      <td>0</td>\n",
              "      <td>1</td>\n",
              "    </tr>\n",
              "    <tr>\n",
              "      <th>5786</th>\n",
              "      <td>1</td>\n",
              "      <td>0</td>\n",
              "    </tr>\n",
              "    <tr>\n",
              "      <th>5787</th>\n",
              "      <td>1</td>\n",
              "      <td>0</td>\n",
              "    </tr>\n",
              "  </tbody>\n",
              "</table>\n",
              "<p>5788 rows × 2 columns</p>\n",
              "</div>"
            ],
            "text/plain": [
              "      Free  Paid\n",
              "0        1     0\n",
              "1        1     0\n",
              "2        1     0\n",
              "3        1     0\n",
              "4        1     0\n",
              "...    ...   ...\n",
              "5783     1     0\n",
              "5784     1     0\n",
              "5785     0     1\n",
              "5786     1     0\n",
              "5787     1     0\n",
              "\n",
              "[5788 rows x 2 columns]"
            ]
          },
          "metadata": {},
          "execution_count": 29
        }
      ]
    },
    {
      "cell_type": "code",
      "metadata": {
        "colab": {
          "base_uri": "https://localhost:8080/",
          "height": 417
        },
        "id": "uZMRzFY-yly5",
        "outputId": "f666e400-1d37-4904-b1bb-524c25ec48fa"
      },
      "source": [
        "y2 = pd.get_dummies(data['Content Rating'])\n",
        "y2"
      ],
      "execution_count": 66,
      "outputs": [
        {
          "output_type": "execute_result",
          "data": {
            "text/html": [
              "<div>\n",
              "<style scoped>\n",
              "    .dataframe tbody tr th:only-of-type {\n",
              "        vertical-align: middle;\n",
              "    }\n",
              "\n",
              "    .dataframe tbody tr th {\n",
              "        vertical-align: top;\n",
              "    }\n",
              "\n",
              "    .dataframe thead th {\n",
              "        text-align: right;\n",
              "    }\n",
              "</style>\n",
              "<table border=\"1\" class=\"dataframe\">\n",
              "  <thead>\n",
              "    <tr style=\"text-align: right;\">\n",
              "      <th></th>\n",
              "      <th>1</th>\n",
              "      <th>3</th>\n",
              "      <th>189</th>\n",
              "      <th>234</th>\n",
              "      <th>597</th>\n",
              "      <th>4764</th>\n",
              "    </tr>\n",
              "  </thead>\n",
              "  <tbody>\n",
              "    <tr>\n",
              "      <th>0</th>\n",
              "      <td>0</td>\n",
              "      <td>0</td>\n",
              "      <td>0</td>\n",
              "      <td>0</td>\n",
              "      <td>0</td>\n",
              "      <td>1</td>\n",
              "    </tr>\n",
              "    <tr>\n",
              "      <th>1</th>\n",
              "      <td>0</td>\n",
              "      <td>0</td>\n",
              "      <td>0</td>\n",
              "      <td>0</td>\n",
              "      <td>0</td>\n",
              "      <td>1</td>\n",
              "    </tr>\n",
              "    <tr>\n",
              "      <th>2</th>\n",
              "      <td>0</td>\n",
              "      <td>0</td>\n",
              "      <td>0</td>\n",
              "      <td>0</td>\n",
              "      <td>0</td>\n",
              "      <td>1</td>\n",
              "    </tr>\n",
              "    <tr>\n",
              "      <th>3</th>\n",
              "      <td>0</td>\n",
              "      <td>0</td>\n",
              "      <td>0</td>\n",
              "      <td>0</td>\n",
              "      <td>0</td>\n",
              "      <td>1</td>\n",
              "    </tr>\n",
              "    <tr>\n",
              "      <th>4</th>\n",
              "      <td>0</td>\n",
              "      <td>0</td>\n",
              "      <td>0</td>\n",
              "      <td>0</td>\n",
              "      <td>0</td>\n",
              "      <td>1</td>\n",
              "    </tr>\n",
              "    <tr>\n",
              "      <th>...</th>\n",
              "      <td>...</td>\n",
              "      <td>...</td>\n",
              "      <td>...</td>\n",
              "      <td>...</td>\n",
              "      <td>...</td>\n",
              "      <td>...</td>\n",
              "    </tr>\n",
              "    <tr>\n",
              "      <th>5783</th>\n",
              "      <td>0</td>\n",
              "      <td>0</td>\n",
              "      <td>0</td>\n",
              "      <td>0</td>\n",
              "      <td>0</td>\n",
              "      <td>1</td>\n",
              "    </tr>\n",
              "    <tr>\n",
              "      <th>5784</th>\n",
              "      <td>0</td>\n",
              "      <td>0</td>\n",
              "      <td>0</td>\n",
              "      <td>0</td>\n",
              "      <td>0</td>\n",
              "      <td>1</td>\n",
              "    </tr>\n",
              "    <tr>\n",
              "      <th>5785</th>\n",
              "      <td>0</td>\n",
              "      <td>0</td>\n",
              "      <td>0</td>\n",
              "      <td>0</td>\n",
              "      <td>0</td>\n",
              "      <td>1</td>\n",
              "    </tr>\n",
              "    <tr>\n",
              "      <th>5786</th>\n",
              "      <td>0</td>\n",
              "      <td>0</td>\n",
              "      <td>0</td>\n",
              "      <td>0</td>\n",
              "      <td>0</td>\n",
              "      <td>1</td>\n",
              "    </tr>\n",
              "    <tr>\n",
              "      <th>5787</th>\n",
              "      <td>0</td>\n",
              "      <td>0</td>\n",
              "      <td>0</td>\n",
              "      <td>0</td>\n",
              "      <td>1</td>\n",
              "      <td>0</td>\n",
              "    </tr>\n",
              "  </tbody>\n",
              "</table>\n",
              "<p>5788 rows × 6 columns</p>\n",
              "</div>"
            ],
            "text/plain": [
              "      1     3     189   234   597   4764\n",
              "0        0     0     0     0     0     1\n",
              "1        0     0     0     0     0     1\n",
              "2        0     0     0     0     0     1\n",
              "3        0     0     0     0     0     1\n",
              "4        0     0     0     0     0     1\n",
              "...    ...   ...   ...   ...   ...   ...\n",
              "5783     0     0     0     0     0     1\n",
              "5784     0     0     0     0     0     1\n",
              "5785     0     0     0     0     0     1\n",
              "5786     0     0     0     0     0     1\n",
              "5787     0     0     0     0     1     0\n",
              "\n",
              "[5788 rows x 6 columns]"
            ]
          },
          "metadata": {},
          "execution_count": 66
        }
      ]
    },
    {
      "cell_type": "code",
      "metadata": {
        "colab": {
          "base_uri": "https://localhost:8080/",
          "height": 417
        },
        "id": "WfAr3whWtnz5",
        "outputId": "dfc3e9d4-a0ff-4358-8a18-af89c2b2530f"
      },
      "source": [
        "data.drop(['Type'], axis = 1,inplace=True)\n",
        "data"
      ],
      "execution_count": 30,
      "outputs": [
        {
          "output_type": "execute_result",
          "data": {
            "text/html": [
              "<div>\n",
              "<style scoped>\n",
              "    .dataframe tbody tr th:only-of-type {\n",
              "        vertical-align: middle;\n",
              "    }\n",
              "\n",
              "    .dataframe tbody tr th {\n",
              "        vertical-align: top;\n",
              "    }\n",
              "\n",
              "    .dataframe thead th {\n",
              "        text-align: right;\n",
              "    }\n",
              "</style>\n",
              "<table border=\"1\" class=\"dataframe\">\n",
              "  <thead>\n",
              "    <tr style=\"text-align: right;\">\n",
              "      <th></th>\n",
              "      <th>Category</th>\n",
              "      <th>Rating</th>\n",
              "      <th>Reviews</th>\n",
              "      <th>Installs</th>\n",
              "      <th>Price</th>\n",
              "      <th>Content Rating</th>\n",
              "      <th>Genres</th>\n",
              "      <th>Android Ver</th>\n",
              "    </tr>\n",
              "  </thead>\n",
              "  <tbody>\n",
              "    <tr>\n",
              "      <th>0</th>\n",
              "      <td>133</td>\n",
              "      <td>1.0</td>\n",
              "      <td>149723</td>\n",
              "      <td>541</td>\n",
              "      <td>0.00</td>\n",
              "      <td>4764</td>\n",
              "      <td>0.768336</td>\n",
              "      <td>761</td>\n",
              "    </tr>\n",
              "    <tr>\n",
              "      <th>1</th>\n",
              "      <td>219</td>\n",
              "      <td>0.0</td>\n",
              "      <td>853</td>\n",
              "      <td>661</td>\n",
              "      <td>0.00</td>\n",
              "      <td>4764</td>\n",
              "      <td>0.641972</td>\n",
              "      <td>1317</td>\n",
              "    </tr>\n",
              "    <tr>\n",
              "      <th>2</th>\n",
              "      <td>67</td>\n",
              "      <td>1.0</td>\n",
              "      <td>61881</td>\n",
              "      <td>356</td>\n",
              "      <td>0.00</td>\n",
              "      <td>4764</td>\n",
              "      <td>1.172458</td>\n",
              "      <td>582</td>\n",
              "    </tr>\n",
              "    <tr>\n",
              "      <th>3</th>\n",
              "      <td>508</td>\n",
              "      <td>0.0</td>\n",
              "      <td>21943</td>\n",
              "      <td>356</td>\n",
              "      <td>0.00</td>\n",
              "      <td>4764</td>\n",
              "      <td>0.757642</td>\n",
              "      <td>381</td>\n",
              "    </tr>\n",
              "    <tr>\n",
              "      <th>4</th>\n",
              "      <td>1114</td>\n",
              "      <td>1.0</td>\n",
              "      <td>6</td>\n",
              "      <td>536</td>\n",
              "      <td>0.00</td>\n",
              "      <td>4764</td>\n",
              "      <td>1.058965</td>\n",
              "      <td>1317</td>\n",
              "    </tr>\n",
              "    <tr>\n",
              "      <th>...</th>\n",
              "      <td>...</td>\n",
              "      <td>...</td>\n",
              "      <td>...</td>\n",
              "      <td>...</td>\n",
              "      <td>...</td>\n",
              "      <td>...</td>\n",
              "      <td>...</td>\n",
              "      <td>...</td>\n",
              "    </tr>\n",
              "    <tr>\n",
              "      <th>5783</th>\n",
              "      <td>195</td>\n",
              "      <td>1.0</td>\n",
              "      <td>69119316</td>\n",
              "      <td>12</td>\n",
              "      <td>0.00</td>\n",
              "      <td>4764</td>\n",
              "      <td>0.306677</td>\n",
              "      <td>582</td>\n",
              "    </tr>\n",
              "    <tr>\n",
              "      <th>5784</th>\n",
              "      <td>170</td>\n",
              "      <td>0.0</td>\n",
              "      <td>44</td>\n",
              "      <td>536</td>\n",
              "      <td>0.00</td>\n",
              "      <td>4764</td>\n",
              "      <td>0.644734</td>\n",
              "      <td>143</td>\n",
              "    </tr>\n",
              "    <tr>\n",
              "      <th>5785</th>\n",
              "      <td>46</td>\n",
              "      <td>1.0</td>\n",
              "      <td>3005</td>\n",
              "      <td>623</td>\n",
              "      <td>2.99</td>\n",
              "      <td>4764</td>\n",
              "      <td>0.754550</td>\n",
              "      <td>846</td>\n",
              "    </tr>\n",
              "    <tr>\n",
              "      <th>5786</th>\n",
              "      <td>1114</td>\n",
              "      <td>1.0</td>\n",
              "      <td>708</td>\n",
              "      <td>298</td>\n",
              "      <td>0.00</td>\n",
              "      <td>4764</td>\n",
              "      <td>0.559427</td>\n",
              "      <td>137</td>\n",
              "    </tr>\n",
              "    <tr>\n",
              "      <th>5787</th>\n",
              "      <td>134</td>\n",
              "      <td>1.0</td>\n",
              "      <td>144</td>\n",
              "      <td>536</td>\n",
              "      <td>0.00</td>\n",
              "      <td>597</td>\n",
              "      <td>0.462860</td>\n",
              "      <td>846</td>\n",
              "    </tr>\n",
              "  </tbody>\n",
              "</table>\n",
              "<p>5788 rows × 8 columns</p>\n",
              "</div>"
            ],
            "text/plain": [
              "      Category  Rating   Reviews  ...  Content Rating    Genres  Android Ver\n",
              "0          133     1.0    149723  ...            4764  0.768336          761\n",
              "1          219     0.0       853  ...            4764  0.641972         1317\n",
              "2           67     1.0     61881  ...            4764  1.172458          582\n",
              "3          508     0.0     21943  ...            4764  0.757642          381\n",
              "4         1114     1.0         6  ...            4764  1.058965         1317\n",
              "...        ...     ...       ...  ...             ...       ...          ...\n",
              "5783       195     1.0  69119316  ...            4764  0.306677          582\n",
              "5784       170     0.0        44  ...            4764  0.644734          143\n",
              "5785        46     1.0      3005  ...            4764  0.754550          846\n",
              "5786      1114     1.0       708  ...            4764  0.559427          137\n",
              "5787       134     1.0       144  ...             597  0.462860          846\n",
              "\n",
              "[5788 rows x 8 columns]"
            ]
          },
          "metadata": {},
          "execution_count": 30
        }
      ]
    },
    {
      "cell_type": "code",
      "metadata": {
        "id": "Ho06H9Vjt_vK"
      },
      "source": [
        "data = pd.concat([data, y], axis=1,)"
      ],
      "execution_count": 31,
      "outputs": []
    },
    {
      "cell_type": "code",
      "metadata": {
        "colab": {
          "base_uri": "https://localhost:8080/",
          "height": 417
        },
        "id": "muYuv8ZSuVep",
        "outputId": "24b0ff73-2427-43de-f1aa-e2e369dd31d7"
      },
      "source": [
        "data"
      ],
      "execution_count": 32,
      "outputs": [
        {
          "output_type": "execute_result",
          "data": {
            "text/html": [
              "<div>\n",
              "<style scoped>\n",
              "    .dataframe tbody tr th:only-of-type {\n",
              "        vertical-align: middle;\n",
              "    }\n",
              "\n",
              "    .dataframe tbody tr th {\n",
              "        vertical-align: top;\n",
              "    }\n",
              "\n",
              "    .dataframe thead th {\n",
              "        text-align: right;\n",
              "    }\n",
              "</style>\n",
              "<table border=\"1\" class=\"dataframe\">\n",
              "  <thead>\n",
              "    <tr style=\"text-align: right;\">\n",
              "      <th></th>\n",
              "      <th>Category</th>\n",
              "      <th>Rating</th>\n",
              "      <th>Reviews</th>\n",
              "      <th>Installs</th>\n",
              "      <th>Price</th>\n",
              "      <th>Content Rating</th>\n",
              "      <th>Genres</th>\n",
              "      <th>Android Ver</th>\n",
              "      <th>Free</th>\n",
              "      <th>Paid</th>\n",
              "    </tr>\n",
              "  </thead>\n",
              "  <tbody>\n",
              "    <tr>\n",
              "      <th>0</th>\n",
              "      <td>133</td>\n",
              "      <td>1.0</td>\n",
              "      <td>149723</td>\n",
              "      <td>541</td>\n",
              "      <td>0.00</td>\n",
              "      <td>4764</td>\n",
              "      <td>0.768336</td>\n",
              "      <td>761</td>\n",
              "      <td>1</td>\n",
              "      <td>0</td>\n",
              "    </tr>\n",
              "    <tr>\n",
              "      <th>1</th>\n",
              "      <td>219</td>\n",
              "      <td>0.0</td>\n",
              "      <td>853</td>\n",
              "      <td>661</td>\n",
              "      <td>0.00</td>\n",
              "      <td>4764</td>\n",
              "      <td>0.641972</td>\n",
              "      <td>1317</td>\n",
              "      <td>1</td>\n",
              "      <td>0</td>\n",
              "    </tr>\n",
              "    <tr>\n",
              "      <th>2</th>\n",
              "      <td>67</td>\n",
              "      <td>1.0</td>\n",
              "      <td>61881</td>\n",
              "      <td>356</td>\n",
              "      <td>0.00</td>\n",
              "      <td>4764</td>\n",
              "      <td>1.172458</td>\n",
              "      <td>582</td>\n",
              "      <td>1</td>\n",
              "      <td>0</td>\n",
              "    </tr>\n",
              "    <tr>\n",
              "      <th>3</th>\n",
              "      <td>508</td>\n",
              "      <td>0.0</td>\n",
              "      <td>21943</td>\n",
              "      <td>356</td>\n",
              "      <td>0.00</td>\n",
              "      <td>4764</td>\n",
              "      <td>0.757642</td>\n",
              "      <td>381</td>\n",
              "      <td>1</td>\n",
              "      <td>0</td>\n",
              "    </tr>\n",
              "    <tr>\n",
              "      <th>4</th>\n",
              "      <td>1114</td>\n",
              "      <td>1.0</td>\n",
              "      <td>6</td>\n",
              "      <td>536</td>\n",
              "      <td>0.00</td>\n",
              "      <td>4764</td>\n",
              "      <td>1.058965</td>\n",
              "      <td>1317</td>\n",
              "      <td>1</td>\n",
              "      <td>0</td>\n",
              "    </tr>\n",
              "    <tr>\n",
              "      <th>...</th>\n",
              "      <td>...</td>\n",
              "      <td>...</td>\n",
              "      <td>...</td>\n",
              "      <td>...</td>\n",
              "      <td>...</td>\n",
              "      <td>...</td>\n",
              "      <td>...</td>\n",
              "      <td>...</td>\n",
              "      <td>...</td>\n",
              "      <td>...</td>\n",
              "    </tr>\n",
              "    <tr>\n",
              "      <th>5783</th>\n",
              "      <td>195</td>\n",
              "      <td>1.0</td>\n",
              "      <td>69119316</td>\n",
              "      <td>12</td>\n",
              "      <td>0.00</td>\n",
              "      <td>4764</td>\n",
              "      <td>0.306677</td>\n",
              "      <td>582</td>\n",
              "      <td>1</td>\n",
              "      <td>0</td>\n",
              "    </tr>\n",
              "    <tr>\n",
              "      <th>5784</th>\n",
              "      <td>170</td>\n",
              "      <td>0.0</td>\n",
              "      <td>44</td>\n",
              "      <td>536</td>\n",
              "      <td>0.00</td>\n",
              "      <td>4764</td>\n",
              "      <td>0.644734</td>\n",
              "      <td>143</td>\n",
              "      <td>1</td>\n",
              "      <td>0</td>\n",
              "    </tr>\n",
              "    <tr>\n",
              "      <th>5785</th>\n",
              "      <td>46</td>\n",
              "      <td>1.0</td>\n",
              "      <td>3005</td>\n",
              "      <td>623</td>\n",
              "      <td>2.99</td>\n",
              "      <td>4764</td>\n",
              "      <td>0.754550</td>\n",
              "      <td>846</td>\n",
              "      <td>0</td>\n",
              "      <td>1</td>\n",
              "    </tr>\n",
              "    <tr>\n",
              "      <th>5786</th>\n",
              "      <td>1114</td>\n",
              "      <td>1.0</td>\n",
              "      <td>708</td>\n",
              "      <td>298</td>\n",
              "      <td>0.00</td>\n",
              "      <td>4764</td>\n",
              "      <td>0.559427</td>\n",
              "      <td>137</td>\n",
              "      <td>1</td>\n",
              "      <td>0</td>\n",
              "    </tr>\n",
              "    <tr>\n",
              "      <th>5787</th>\n",
              "      <td>134</td>\n",
              "      <td>1.0</td>\n",
              "      <td>144</td>\n",
              "      <td>536</td>\n",
              "      <td>0.00</td>\n",
              "      <td>597</td>\n",
              "      <td>0.462860</td>\n",
              "      <td>846</td>\n",
              "      <td>1</td>\n",
              "      <td>0</td>\n",
              "    </tr>\n",
              "  </tbody>\n",
              "</table>\n",
              "<p>5788 rows × 10 columns</p>\n",
              "</div>"
            ],
            "text/plain": [
              "      Category  Rating   Reviews  Installs  ...    Genres  Android Ver  Free  Paid\n",
              "0          133     1.0    149723       541  ...  0.768336          761     1     0\n",
              "1          219     0.0       853       661  ...  0.641972         1317     1     0\n",
              "2           67     1.0     61881       356  ...  1.172458          582     1     0\n",
              "3          508     0.0     21943       356  ...  0.757642          381     1     0\n",
              "4         1114     1.0         6       536  ...  1.058965         1317     1     0\n",
              "...        ...     ...       ...       ...  ...       ...          ...   ...   ...\n",
              "5783       195     1.0  69119316        12  ...  0.306677          582     1     0\n",
              "5784       170     0.0        44       536  ...  0.644734          143     1     0\n",
              "5785        46     1.0      3005       623  ...  0.754550          846     0     1\n",
              "5786      1114     1.0       708       298  ...  0.559427          137     1     0\n",
              "5787       134     1.0       144       536  ...  0.462860          846     1     0\n",
              "\n",
              "[5788 rows x 10 columns]"
            ]
          },
          "metadata": {},
          "execution_count": 32
        }
      ]
    },
    {
      "cell_type": "code",
      "metadata": {
        "id": "wnqtapfCLDiM",
        "colab": {
          "base_uri": "https://localhost:8080/",
          "height": 422
        },
        "outputId": "23c08801-b959-4580-ee6f-ec392f4a55b9"
      },
      "source": [
        "ms.matrix(data)"
      ],
      "execution_count": 33,
      "outputs": [
        {
          "output_type": "execute_result",
          "data": {
            "text/plain": [
              "<matplotlib.axes._subplots.AxesSubplot at 0x7f8b5f824750>"
            ]
          },
          "metadata": {},
          "execution_count": 33
        },
        {
          "output_type": "display_data",
          "data": {
            "image/png": "[encoded data removed]",
            "text/plain": [
              "<Figure size 1800x720 with 2 Axes>"
            ]
          },
          "metadata": {
            "needs_background": "light"
          }
        }
      ]
    },
    {
      "cell_type": "code",
      "metadata": {
        "id": "iicCISzBpARU"
      },
      "source": [
        "for col in data.loc[:, data.isna().any()].columns:                                     \n",
        "  print('En la columna',col,'hay',data[col].isna().sum(),'valores nulos')"
      ],
      "execution_count": 34,
      "outputs": []
    },
    {
      "cell_type": "code",
      "metadata": {
        "id": "CGCKGMrFpJVr"
      },
      "source": [
        ""
      ],
      "execution_count": null,
      "outputs": []
    },
    {
      "cell_type": "code",
      "metadata": {
        "colab": {
          "base_uri": "https://localhost:8080/"
        },
        "id": "m3_yeqNapJjK",
        "outputId": "718a407a-d230-4b80-ede9-f74b9f2a6fbe"
      },
      "source": [
        "check_for_nan = data.isnull().values.any()\n",
        "print (check_for_nan)"
      ],
      "execution_count": 35,
      "outputs": [
        {
          "output_type": "stream",
          "name": "stdout",
          "text": [
            "False\n"
          ]
        }
      ]
    },
    {
      "cell_type": "markdown",
      "metadata": {
        "id": "QVKfTKXHLqXd"
      },
      "source": [
        "# **Pregunta 3**"
      ]
    },
    {
      "cell_type": "markdown",
      "metadata": {
        "id": "tj3TAaPWRegG"
      },
      "source": [
        "En esta pregunta deberás realizar la partición de los datos en train y test.\n",
        "\n",
        "- Utiliza el método de **train_test_split** reservando el **20%** para test.\n"
      ]
    },
    {
      "cell_type": "code",
      "metadata": {
        "id": "CdE7wcvzuonB"
      },
      "source": [
        "X = data.drop('Rating',axis=1)\n",
        "y = data['Rating']"
      ],
      "execution_count": 38,
      "outputs": []
    },
    {
      "cell_type": "code",
      "metadata": {
        "id": "WWwVgmNhLM9c"
      },
      "source": [
        "X_train, X_test, y_train, y_test= train_test_split(X,y,test_size = 0.20)"
      ],
      "execution_count": 77,
      "outputs": []
    },
    {
      "cell_type": "code",
      "metadata": {
        "colab": {
          "base_uri": "https://localhost:8080/"
        },
        "id": "4lU9IP0HwZkJ",
        "outputId": "06320d94-f724-4860-a11f-1e235d389f40"
      },
      "source": [
        "#Mostramos con el parámetro shape la cantidad de filas que resultaron en cada parte\n",
        "print('Para el X_train:', X_train.shape, 'y para el y_train',y_train.shape)\n",
        "print('Para el X_test:',X_test.shape,'y para el y_test',y_test.shape)"
      ],
      "execution_count": 78,
      "outputs": [
        {
          "output_type": "stream",
          "name": "stdout",
          "text": [
            "Para el X_train: (4630, 9) y para el y_train (4630,)\n",
            "Para el X_test: (1158, 9) y para el y_test (1158,)\n"
          ]
        }
      ]
    },
    {
      "cell_type": "code",
      "metadata": {
        "colab": {
          "base_uri": "https://localhost:8080/",
          "height": 332
        },
        "id": "Xzrdn5VKvNnJ",
        "outputId": "a3866d93-de76-4b0d-99b9-c6aff90781b2"
      },
      "source": [
        "X_train.describe()"
      ],
      "execution_count": 79,
      "outputs": [
        {
          "output_type": "execute_result",
          "data": {
            "text/html": [
              "<div>\n",
              "<style scoped>\n",
              "    .dataframe tbody tr th:only-of-type {\n",
              "        vertical-align: middle;\n",
              "    }\n",
              "\n",
              "    .dataframe tbody tr th {\n",
              "        vertical-align: top;\n",
              "    }\n",
              "\n",
              "    .dataframe thead th {\n",
              "        text-align: right;\n",
              "    }\n",
              "</style>\n",
              "<table border=\"1\" class=\"dataframe\">\n",
              "  <thead>\n",
              "    <tr style=\"text-align: right;\">\n",
              "      <th></th>\n",
              "      <th>Category</th>\n",
              "      <th>Reviews</th>\n",
              "      <th>Installs</th>\n",
              "      <th>Price</th>\n",
              "      <th>Content Rating</th>\n",
              "      <th>Genres</th>\n",
              "      <th>Android Ver</th>\n",
              "      <th>Free</th>\n",
              "      <th>Paid</th>\n",
              "    </tr>\n",
              "  </thead>\n",
              "  <tbody>\n",
              "    <tr>\n",
              "      <th>count</th>\n",
              "      <td>4630.000000</td>\n",
              "      <td>4.630000e+03</td>\n",
              "      <td>4630.000000</td>\n",
              "      <td>4630.000000</td>\n",
              "      <td>4630.000000</td>\n",
              "      <td>4630.000000</td>\n",
              "      <td>4630.000000</td>\n",
              "      <td>4630.000000</td>\n",
              "      <td>4630.000000</td>\n",
              "    </tr>\n",
              "    <tr>\n",
              "      <th>mean</th>\n",
              "      <td>418.561987</td>\n",
              "      <td>2.344315e+05</td>\n",
              "      <td>488.541901</td>\n",
              "      <td>1.084119</td>\n",
              "      <td>3989.536285</td>\n",
              "      <td>0.743334</td>\n",
              "      <td>688.016199</td>\n",
              "      <td>0.917927</td>\n",
              "      <td>0.082073</td>\n",
              "    </tr>\n",
              "    <tr>\n",
              "      <th>std</th>\n",
              "      <td>372.558557</td>\n",
              "      <td>2.244599e+06</td>\n",
              "      <td>218.793420</td>\n",
              "      <td>16.168776</td>\n",
              "      <td>1660.476199</td>\n",
              "      <td>0.267761</td>\n",
              "      <td>413.846853</td>\n",
              "      <td>0.274506</td>\n",
              "      <td>0.274506</td>\n",
              "    </tr>\n",
              "    <tr>\n",
              "      <th>min</th>\n",
              "      <td>32.000000</td>\n",
              "      <td>0.000000e+00</td>\n",
              "      <td>7.000000</td>\n",
              "      <td>0.000000</td>\n",
              "      <td>1.000000</td>\n",
              "      <td>-0.275977</td>\n",
              "      <td>1.000000</td>\n",
              "      <td>0.000000</td>\n",
              "      <td>0.000000</td>\n",
              "    </tr>\n",
              "    <tr>\n",
              "      <th>25%</th>\n",
              "      <td>143.000000</td>\n",
              "      <td>2.300000e+01</td>\n",
              "      <td>298.000000</td>\n",
              "      <td>0.000000</td>\n",
              "      <td>4764.000000</td>\n",
              "      <td>0.563746</td>\n",
              "      <td>381.000000</td>\n",
              "      <td>1.000000</td>\n",
              "      <td>0.000000</td>\n",
              "    </tr>\n",
              "    <tr>\n",
              "      <th>50%</th>\n",
              "      <td>233.000000</td>\n",
              "      <td>8.595000e+02</td>\n",
              "      <td>536.000000</td>\n",
              "      <td>0.000000</td>\n",
              "      <td>4764.000000</td>\n",
              "      <td>0.734930</td>\n",
              "      <td>761.000000</td>\n",
              "      <td>1.000000</td>\n",
              "      <td>0.000000</td>\n",
              "    </tr>\n",
              "    <tr>\n",
              "      <th>75%</th>\n",
              "      <td>581.000000</td>\n",
              "      <td>2.519200e+04</td>\n",
              "      <td>661.000000</td>\n",
              "      <td>0.000000</td>\n",
              "      <td>4764.000000</td>\n",
              "      <td>0.916336</td>\n",
              "      <td>846.000000</td>\n",
              "      <td>1.000000</td>\n",
              "      <td>0.000000</td>\n",
              "    </tr>\n",
              "    <tr>\n",
              "      <th>max</th>\n",
              "      <td>1114.000000</td>\n",
              "      <td>7.815831e+07</td>\n",
              "      <td>841.000000</td>\n",
              "      <td>399.990000</td>\n",
              "      <td>4764.000000</td>\n",
              "      <td>1.866941</td>\n",
              "      <td>1317.000000</td>\n",
              "      <td>1.000000</td>\n",
              "      <td>1.000000</td>\n",
              "    </tr>\n",
              "  </tbody>\n",
              "</table>\n",
              "</div>"
            ],
            "text/plain": [
              "          Category       Reviews  ...         Free         Paid\n",
              "count  4630.000000  4.630000e+03  ...  4630.000000  4630.000000\n",
              "mean    418.561987  2.344315e+05  ...     0.917927     0.082073\n",
              "std     372.558557  2.244599e+06  ...     0.274506     0.274506\n",
              "min      32.000000  0.000000e+00  ...     0.000000     0.000000\n",
              "25%     143.000000  2.300000e+01  ...     1.000000     0.000000\n",
              "50%     233.000000  8.595000e+02  ...     1.000000     0.000000\n",
              "75%     581.000000  2.519200e+04  ...     1.000000     0.000000\n",
              "max    1114.000000  7.815831e+07  ...     1.000000     1.000000\n",
              "\n",
              "[8 rows x 9 columns]"
            ]
          },
          "metadata": {},
          "execution_count": 79
        }
      ]
    },
    {
      "cell_type": "code",
      "metadata": {
        "colab": {
          "base_uri": "https://localhost:8080/",
          "height": 332
        },
        "id": "3Du5l7VIvhl4",
        "outputId": "405dd7b9-6d32-47d5-e64f-063269a230c9"
      },
      "source": [
        "X_test.describe()"
      ],
      "execution_count": 80,
      "outputs": [
        {
          "output_type": "execute_result",
          "data": {
            "text/html": [
              "<div>\n",
              "<style scoped>\n",
              "    .dataframe tbody tr th:only-of-type {\n",
              "        vertical-align: middle;\n",
              "    }\n",
              "\n",
              "    .dataframe tbody tr th {\n",
              "        vertical-align: top;\n",
              "    }\n",
              "\n",
              "    .dataframe thead th {\n",
              "        text-align: right;\n",
              "    }\n",
              "</style>\n",
              "<table border=\"1\" class=\"dataframe\">\n",
              "  <thead>\n",
              "    <tr style=\"text-align: right;\">\n",
              "      <th></th>\n",
              "      <th>Category</th>\n",
              "      <th>Reviews</th>\n",
              "      <th>Installs</th>\n",
              "      <th>Price</th>\n",
              "      <th>Content Rating</th>\n",
              "      <th>Genres</th>\n",
              "      <th>Android Ver</th>\n",
              "      <th>Free</th>\n",
              "      <th>Paid</th>\n",
              "    </tr>\n",
              "  </thead>\n",
              "  <tbody>\n",
              "    <tr>\n",
              "      <th>count</th>\n",
              "      <td>1158.000000</td>\n",
              "      <td>1.158000e+03</td>\n",
              "      <td>1158.000000</td>\n",
              "      <td>1158.000000</td>\n",
              "      <td>1158.000000</td>\n",
              "      <td>1158.000000</td>\n",
              "      <td>1158.000000</td>\n",
              "      <td>1158.000000</td>\n",
              "      <td>1158.000000</td>\n",
              "    </tr>\n",
              "    <tr>\n",
              "      <th>mean</th>\n",
              "      <td>425.084629</td>\n",
              "      <td>2.330004e+05</td>\n",
              "      <td>499.688256</td>\n",
              "      <td>0.776364</td>\n",
              "      <td>4033.712435</td>\n",
              "      <td>0.749778</td>\n",
              "      <td>696.973230</td>\n",
              "      <td>0.926598</td>\n",
              "      <td>0.073402</td>\n",
              "    </tr>\n",
              "    <tr>\n",
              "      <th>std</th>\n",
              "      <td>374.980071</td>\n",
              "      <td>1.868823e+06</td>\n",
              "      <td>228.417442</td>\n",
              "      <td>12.202941</td>\n",
              "      <td>1625.500462</td>\n",
              "      <td>0.276083</td>\n",
              "      <td>418.338724</td>\n",
              "      <td>0.260909</td>\n",
              "      <td>0.260909</td>\n",
              "    </tr>\n",
              "    <tr>\n",
              "      <th>min</th>\n",
              "      <td>32.000000</td>\n",
              "      <td>0.000000e+00</td>\n",
              "      <td>7.000000</td>\n",
              "      <td>0.000000</td>\n",
              "      <td>189.000000</td>\n",
              "      <td>-0.196034</td>\n",
              "      <td>1.000000</td>\n",
              "      <td>0.000000</td>\n",
              "      <td>0.000000</td>\n",
              "    </tr>\n",
              "    <tr>\n",
              "      <th>25%</th>\n",
              "      <td>162.000000</td>\n",
              "      <td>2.300000e+01</td>\n",
              "      <td>308.000000</td>\n",
              "      <td>0.000000</td>\n",
              "      <td>4764.000000</td>\n",
              "      <td>0.553145</td>\n",
              "      <td>381.000000</td>\n",
              "      <td>1.000000</td>\n",
              "      <td>0.000000</td>\n",
              "    </tr>\n",
              "    <tr>\n",
              "      <th>50%</th>\n",
              "      <td>233.000000</td>\n",
              "      <td>9.955000e+02</td>\n",
              "      <td>536.000000</td>\n",
              "      <td>0.000000</td>\n",
              "      <td>4764.000000</td>\n",
              "      <td>0.755063</td>\n",
              "      <td>761.000000</td>\n",
              "      <td>1.000000</td>\n",
              "      <td>0.000000</td>\n",
              "    </tr>\n",
              "    <tr>\n",
              "      <th>75%</th>\n",
              "      <td>581.000000</td>\n",
              "      <td>3.224675e+04</td>\n",
              "      <td>661.000000</td>\n",
              "      <td>0.000000</td>\n",
              "      <td>4764.000000</td>\n",
              "      <td>0.936770</td>\n",
              "      <td>846.000000</td>\n",
              "      <td>1.000000</td>\n",
              "      <td>0.000000</td>\n",
              "    </tr>\n",
              "    <tr>\n",
              "      <th>max</th>\n",
              "      <td>1114.000000</td>\n",
              "      <td>5.664285e+07</td>\n",
              "      <td>841.000000</td>\n",
              "      <td>399.990000</td>\n",
              "      <td>4764.000000</td>\n",
              "      <td>1.635069</td>\n",
              "      <td>1317.000000</td>\n",
              "      <td>1.000000</td>\n",
              "      <td>1.000000</td>\n",
              "    </tr>\n",
              "  </tbody>\n",
              "</table>\n",
              "</div>"
            ],
            "text/plain": [
              "          Category       Reviews  ...         Free         Paid\n",
              "count  1158.000000  1.158000e+03  ...  1158.000000  1158.000000\n",
              "mean    425.084629  2.330004e+05  ...     0.926598     0.073402\n",
              "std     374.980071  1.868823e+06  ...     0.260909     0.260909\n",
              "min      32.000000  0.000000e+00  ...     0.000000     0.000000\n",
              "25%     162.000000  2.300000e+01  ...     1.000000     0.000000\n",
              "50%     233.000000  9.955000e+02  ...     1.000000     0.000000\n",
              "75%     581.000000  3.224675e+04  ...     1.000000     0.000000\n",
              "max    1114.000000  5.664285e+07  ...     1.000000     1.000000\n",
              "\n",
              "[8 rows x 9 columns]"
            ]
          },
          "metadata": {},
          "execution_count": 80
        }
      ]
    },
    {
      "cell_type": "markdown",
      "metadata": {
        "id": "zbaEUpfuL-ZP"
      },
      "source": [
        "# **Pregunta 4**"
      ]
    },
    {
      "cell_type": "markdown",
      "metadata": {
        "id": "q50LjTcJPf0E"
      },
      "source": [
        "En esta pregunta debes realizar el **Modelamiento**. Utiliza **train** (X_train, y train) para entrenar:\n",
        "- Un modelo de clasificación con **Random Forest**\n",
        "- Un modelo de clasificación con **Regresión Logistica**"
      ]
    },
    {
      "cell_type": "code",
      "metadata": {
        "id": "fe-VJUHBT99W",
        "colab": {
          "base_uri": "https://localhost:8080/"
        },
        "outputId": "c456fdf2-a66e-4ee3-a5c7-f75070a726a5"
      },
      "source": [
        "# Regresion Logistica\n",
        "rl = LogisticRegression(random_state=100) \n",
        "rl.fit(X_train, y_train) \n",
        "rl_pred = rl.predict(X_test) \n",
        "rl_pred"
      ],
      "execution_count": 81,
      "outputs": [
        {
          "output_type": "execute_result",
          "data": {
            "text/plain": [
              "array([1., 1., 1., ..., 1., 1., 1.])"
            ]
          },
          "metadata": {},
          "execution_count": 81
        }
      ]
    },
    {
      "cell_type": "code",
      "metadata": {
        "colab": {
          "base_uri": "https://localhost:8080/"
        },
        "id": "y4Tx-3yFwpYR",
        "outputId": "fe43b065-24dc-48d5-e610-a1611a98b1d7"
      },
      "source": [
        "rl_prob = rl.predict_proba(X_test)[:, 1]\n",
        "rl_prob"
      ],
      "execution_count": 82,
      "outputs": [
        {
          "output_type": "execute_result",
          "data": {
            "text/plain": [
              "array([0.56480538, 0.78289778, 0.69633601, ..., 0.78617835, 0.93564986,\n",
              "       0.94381901])"
            ]
          },
          "metadata": {},
          "execution_count": 82
        }
      ]
    },
    {
      "cell_type": "code",
      "metadata": {
        "colab": {
          "base_uri": "https://localhost:8080/",
          "height": 326
        },
        "id": "4kIvbx0KwqpQ",
        "outputId": "efc0dd53-2e3e-4671-f995-beec37f5f1d2"
      },
      "source": [
        "coeficientes = pd.DataFrame({'variables':X_train.columns.values, 'betas': np.round(rl.coef_[0],4) })\n",
        "coeficientes"
      ],
      "execution_count": 86,
      "outputs": [
        {
          "output_type": "execute_result",
          "data": {
            "text/html": [
              "<div>\n",
              "<style scoped>\n",
              "    .dataframe tbody tr th:only-of-type {\n",
              "        vertical-align: middle;\n",
              "    }\n",
              "\n",
              "    .dataframe tbody tr th {\n",
              "        vertical-align: top;\n",
              "    }\n",
              "\n",
              "    .dataframe thead th {\n",
              "        text-align: right;\n",
              "    }\n",
              "</style>\n",
              "<table border=\"1\" class=\"dataframe\">\n",
              "  <thead>\n",
              "    <tr style=\"text-align: right;\">\n",
              "      <th></th>\n",
              "      <th>variables</th>\n",
              "      <th>betas</th>\n",
              "    </tr>\n",
              "  </thead>\n",
              "  <tbody>\n",
              "    <tr>\n",
              "      <th>0</th>\n",
              "      <td>Category</td>\n",
              "      <td>0.0001</td>\n",
              "    </tr>\n",
              "    <tr>\n",
              "      <th>1</th>\n",
              "      <td>Reviews</td>\n",
              "      <td>0.0000</td>\n",
              "    </tr>\n",
              "    <tr>\n",
              "      <th>2</th>\n",
              "      <td>Installs</td>\n",
              "      <td>-0.0003</td>\n",
              "    </tr>\n",
              "    <tr>\n",
              "      <th>3</th>\n",
              "      <td>Price</td>\n",
              "      <td>0.0000</td>\n",
              "    </tr>\n",
              "    <tr>\n",
              "      <th>4</th>\n",
              "      <td>Content Rating</td>\n",
              "      <td>0.0001</td>\n",
              "    </tr>\n",
              "    <tr>\n",
              "      <th>5</th>\n",
              "      <td>Genres</td>\n",
              "      <td>0.0000</td>\n",
              "    </tr>\n",
              "    <tr>\n",
              "      <th>6</th>\n",
              "      <td>Android Ver</td>\n",
              "      <td>0.0007</td>\n",
              "    </tr>\n",
              "    <tr>\n",
              "      <th>7</th>\n",
              "      <td>Free</td>\n",
              "      <td>0.0000</td>\n",
              "    </tr>\n",
              "    <tr>\n",
              "      <th>8</th>\n",
              "      <td>Paid</td>\n",
              "      <td>0.0000</td>\n",
              "    </tr>\n",
              "  </tbody>\n",
              "</table>\n",
              "</div>"
            ],
            "text/plain": [
              "        variables   betas\n",
              "0        Category  0.0001\n",
              "1         Reviews  0.0000\n",
              "2        Installs -0.0003\n",
              "3           Price  0.0000\n",
              "4  Content Rating  0.0001\n",
              "5          Genres  0.0000\n",
              "6     Android Ver  0.0007\n",
              "7            Free  0.0000\n",
              "8            Paid  0.0000"
            ]
          },
          "metadata": {},
          "execution_count": 86
        }
      ]
    },
    {
      "cell_type": "code",
      "metadata": {
        "colab": {
          "base_uri": "https://localhost:8080/"
        },
        "id": "e5OnkeduxiGx",
        "outputId": "852e856d-bb89-44df-f88b-821533ab6279"
      },
      "source": [
        "# Random Forest\n",
        "rf = RandomForestClassifier(n_jobs = -1,max_depth=3,random_state=1) #creamos la variable rf para guardar el modelo con los parámetros deseados\n",
        "rf.fit(X_train,y_train) #entrenamos con datos guardados en X_train, y_train\n",
        "rf_pred = rf.predict(X_test) #generamos las predicciones usando como variables predictoras los datos en X_test\n",
        "rf_pred"
      ],
      "execution_count": 87,
      "outputs": [
        {
          "output_type": "execute_result",
          "data": {
            "text/plain": [
              "array([1., 1., 1., ..., 1., 1., 1.])"
            ]
          },
          "metadata": {},
          "execution_count": 87
        }
      ]
    },
    {
      "cell_type": "code",
      "metadata": {
        "colab": {
          "base_uri": "https://localhost:8080/"
        },
        "id": "UX3FhDDdxiRn",
        "outputId": "527ccae1-ae38-41ae-dd46-32003f8d95e6"
      },
      "source": [
        "rf_prob = rf.predict_proba(X_test)[:,1]\n",
        "rf_prob"
      ],
      "execution_count": 88,
      "outputs": [
        {
          "output_type": "execute_result",
          "data": {
            "text/plain": [
              "array([0.66525541, 0.70695651, 0.7198883 , ..., 0.75383605, 0.84746102,\n",
              "       0.84962638])"
            ]
          },
          "metadata": {},
          "execution_count": 88
        }
      ]
    },
    {
      "cell_type": "code",
      "metadata": {
        "colab": {
          "base_uri": "https://localhost:8080/",
          "height": 700
        },
        "id": "dz7OZWSmxiYA",
        "outputId": "8fd7106c-6e37-493a-81c6-96250cf696fb"
      },
      "source": [
        "pesos = rf.feature_importances_\n",
        "cols = X_train.columns\n",
        "plt.figure(figsize=(8,12))\n",
        "indices = np.argsort(pesos)\n",
        "plt.barh(range(len(indices)), pesos[indices], align = 'center')\n",
        "plt.yticks(range(len(indices)),[cols[i] for i in indices])\n",
        "plt.show()"
      ],
      "execution_count": 89,
      "outputs": [
        {
          "output_type": "display_data",
          "data": {
            "image/png": "[encoded data removed]",
            "text/plain": [
              "<Figure size 576x864 with 1 Axes>"
            ]
          },
          "metadata": {
            "needs_background": "light"
          }
        }
      ]
    },
    {
      "cell_type": "markdown",
      "metadata": {
        "id": "UUIK-66-MBoB"
      },
      "source": [
        "# **Pregunta 5**"
      ]
    },
    {
      "cell_type": "markdown",
      "metadata": {
        "id": "I1E0buXOPy5L"
      },
      "source": [
        "En esta pregunta debes realizar la **Evaluación** de ambos modelos:\n",
        " - Genera las **predicciones** utilzando **X_test** para ambos modelos\n",
        " - Evalúa el rendimiento de cada modelo utilizando **accuracy_score** para comparar y_test versus tus predicciones."
      ]
    },
    {
      "cell_type": "code",
      "metadata": {
        "id": "G3r3Ce2qMCt1",
        "colab": {
          "base_uri": "https://localhost:8080/"
        },
        "outputId": "bd15d8af-1ee0-4b8b-b2b1-0bbc399086de"
      },
      "source": [
        "# Score de la Regresion Logistica\n",
        "print('El accuracy para el modelo de Regresion Logistica es :{0:.4f}'.format(accuracy_score(y_test,rl_pred)))"
      ],
      "execution_count": 90,
      "outputs": [
        {
          "output_type": "stream",
          "name": "stdout",
          "text": [
            "El accuracy para el modelo de Regresion Logistica es :0.7668\n"
          ]
        }
      ]
    },
    {
      "cell_type": "code",
      "metadata": {
        "colab": {
          "base_uri": "https://localhost:8080/"
        },
        "id": "cvUSmEIWx825",
        "outputId": "30f9918c-0b40-4bdc-9599-419415b9f8d9"
      },
      "source": [
        "# Score del Random Forest\n",
        "print('El accuracy para el modelo Random Forest es :{0:.4f}'.format(accuracy_score(y_test,rf_pred)))"
      ],
      "execution_count": 91,
      "outputs": [
        {
          "output_type": "stream",
          "name": "stdout",
          "text": [
            "El accuracy para el modelo Random Forest es :0.7677\n"
          ]
        }
      ]
    },
    {
      "cell_type": "markdown",
      "metadata": {
        "id": "JmPg9FNaUP78"
      },
      "source": [
        "Finalmente comenta **cuál modelo escogerías** y por qué."
      ]
    },
    {
      "cell_type": "markdown",
      "metadata": {
        "id": "K0n57kmP1tZo"
      },
      "source": [
        "En base al accuracy_score el mejor modelo es el Random Forest."
      ]
    }
  ]
}