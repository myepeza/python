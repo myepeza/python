{
  "nbformat": 4,
  "nbformat_minor": 0,
  "metadata": {
    "colab": {
      "name": "Introduccion Python DS.ipynb",
      "provenance": [],
      "collapsed_sections": []
    },
    "kernelspec": {
      "name": "python3",
      "display_name": "Python 3"
    },
    "language_info": {
      "name": "python"
    }
  },
  "cells": [
    {
      "cell_type": "markdown",
      "metadata": {
        "id": "dbqDXLnYfNJn"
      },
      "source": [
        "# **Introducción a Python para Data Science**\n",
        "### Grupo de Estudio Scikit-Learn\n",
        "Autor: Miguel Yepez Anglas"
      ]
    },
    {
      "cell_type": "markdown",
      "metadata": {
        "id": "MTmiGN8kfwSX"
      },
      "source": [
        "### 1. Variables y constantes"
      ]
    },
    {
      "cell_type": "markdown",
      "metadata": {
        "id": "3OIRMGzzg5aA"
      },
      "source": [
        "- Variable: Es un nombre que se refiere a un objeto que reside en la memoria. Cada variable debe tener un nombre único llamado identificador. Eso es muy de ayuda pensar las variables como contenedores que contienen data el cual puede ser cambiado después a través de técnicas de programación.\n",
        "- Constantes: Una constante es un tipo de variable la cual no puede ser cambiada. Eso es muy de ayuda pensar las constantes como contenedores que contienen información el cual no puede ser cambiado después."
      ]
    },
    {
      "cell_type": "code",
      "metadata": {
        "colab": {
          "base_uri": "https://localhost:8080/"
        },
        "id": "eEC_3UadfKEf",
        "outputId": "355a4b56-3c25-4f68-9287-e683eb8f6110"
      },
      "source": [
        "# Definamos variables\n",
        "a='Grupo de estudio'\n",
        "print(a)\n",
        "a=123\n",
        "print(a)\n",
        "a=1.52\n",
        "print(a)\n",
        "a=True\n",
        "print(a)"
      ],
      "execution_count": null,
      "outputs": [
        {
          "output_type": "stream",
          "name": "stdout",
          "text": [
            "Grupo de estudio\n",
            "123\n",
            "1.52\n",
            "True\n"
          ]
        }
      ]
    },
    {
      "cell_type": "code",
      "metadata": {
        "id": "iVNENTsMfKMH"
      },
      "source": [
        "# Como saber el tipo de dato\n",
        "type(a)"
      ],
      "execution_count": null,
      "outputs": []
    },
    {
      "cell_type": "code",
      "metadata": {
        "id": "z_5IiocNiMnH"
      },
      "source": [
        "# Asignar multiples valores a variables\n",
        "a,b,c=1,2.5,'Hola'\n",
        "print(a,b,c)"
      ],
      "execution_count": null,
      "outputs": []
    },
    {
      "cell_type": "code",
      "metadata": {
        "id": "Sz-1XWceiM2B"
      },
      "source": [
        "# Asignar el mismo valor a varias variables\n",
        "a=b=c=d=1\n",
        "print(a,b,c,d)"
      ],
      "execution_count": null,
      "outputs": []
    },
    {
      "cell_type": "code",
      "metadata": {
        "id": "LpXcJu6ZiND5"
      },
      "source": [
        "# Definamos constantes\n",
        "pi=3.1416\n",
        "grav=9.81\n",
        "print('El valor de Pi es',pi,' y el valor de la constante de la gravedad es',grav)"
      ],
      "execution_count": null,
      "outputs": []
    },
    {
      "cell_type": "code",
      "metadata": {
        "id": "4TSKPNcsiNhG"
      },
      "source": [
        "# Usando librerias de Python para el valor de constantes\n",
        "import math\n",
        "print(math.pi)\n",
        "print(math.e)\n",
        "print(math.nan)"
      ],
      "execution_count": null,
      "outputs": []
    },
    {
      "cell_type": "markdown",
      "metadata": {
        "id": "TDiaFlO0kzqh"
      },
      "source": [
        "<img src=\"https://gravedad.net/wp-content/uploads/2018/04/que-es-constante-gravitacional.jpg\" width=\"350\" height=\"250\">"
      ]
    },
    {
      "cell_type": "code",
      "metadata": {
        "id": "wjjyTvOCjqtO"
      },
      "source": [
        "from scipy import constants\n",
        "print(constants.gravitational_constant)\n",
        "print(constants.horsepower)"
      ],
      "execution_count": null,
      "outputs": []
    },
    {
      "cell_type": "markdown",
      "metadata": {
        "id": "Cwh6QjJ1nGQv"
      },
      "source": [
        "No hay reglas exactas para el nombramiento de variables, sin embargo, se suelen seguir buenas prácticas de programación.\n",
        "- No usar simbolos especiales: #, @ ,$ ,etc.\n",
        "- El primer carácter no puede ser un número.\n",
        "- Los nombres de constante y variable debería tener la combinación de letras en minúsculas (de a a la z) o MAYÚSCULAS (de la A a la Z) o dígitos (del 0 al 9) o un underscore (_). Por ejemplo:\n",
        " - snake_case\n",
        " - MACRO_CASE\n",
        " - camelCase\n",
        " - CapWords\n",
        "- Los nombres que comienzan con guión bajo (simple _ o doble __) se reservan para variables con significado especial.\n",
        "- No pueden usarse palabras reservadas: TRUE, FALSE, FOR, etc."
      ]
    },
    {
      "cell_type": "markdown",
      "metadata": {
        "id": "IxPJQz08uYAH"
      },
      "source": [
        "### 2. Operadores matemáticos"
      ]
    },
    {
      "cell_type": "code",
      "metadata": {
        "id": "OJV_6q3QueFc"
      },
      "source": [
        "# Básicos\n",
        "print(\"Suma :\",2+2)\n",
        "print(\"Multiplicación :\",3*4)\n",
        "print(\"Potenciación :\",2**6)\n",
        "print(\"División :\",5/2)\n",
        "print(\"División Entera :\",5//2)\n",
        "print(\"Módulo :\",5%2)"
      ],
      "execution_count": null,
      "outputs": []
    },
    {
      "cell_type": "code",
      "metadata": {
        "id": "bJ4vUjOOuoKF"
      },
      "source": [
        "# De comparación\n",
        "print(\"1 es igual a 2 :\",1==2)\n",
        "print(\"1 es difente de 2 :\",1!=2)\n",
        "print(\"1 es menor que 2 :\",1<2)\n",
        "print(\"1 es mayor igual que 2 :\",1>=2)"
      ],
      "execution_count": null,
      "outputs": []
    },
    {
      "cell_type": "code",
      "metadata": {
        "id": "R3X7lydhvr9u"
      },
      "source": [
        "# Operadores con Atajos\n",
        "a=5\n",
        "a=a+10\n",
        "print(a)\n",
        "b=5\n",
        "b+=10\n",
        "print(b)\n",
        "c=5\n",
        "c=+10\n",
        "print(c)\n",
        "d=5\n",
        "d**=4\n",
        "print(d)"
      ],
      "execution_count": null,
      "outputs": []
    },
    {
      "cell_type": "markdown",
      "metadata": {
        "id": "HDNSad0A08vO"
      },
      "source": [
        "### 3. Listas, tuplas y diccionarios"
      ]
    },
    {
      "cell_type": "code",
      "metadata": {
        "id": "Rqbgyr-z1BTN"
      },
      "source": [
        "# Listas\n",
        "factura = ['pan', 'huevos', 100, 1234]\n",
        "factura"
      ],
      "execution_count": null,
      "outputs": []
    },
    {
      "cell_type": "code",
      "metadata": {
        "colab": {
          "base_uri": "https://localhost:8080/"
        },
        "id": "ZC9ygQST_tn_",
        "outputId": "468520dd-c4f7-4634-c240-bef5d93cbbe5"
      },
      "source": [
        "factura[0:2] # No se incluye el último"
      ],
      "execution_count": null,
      "outputs": [
        {
          "output_type": "execute_result",
          "data": {
            "text/plain": [
              "['pan', 'huevos']"
            ]
          },
          "metadata": {},
          "execution_count": 135
        }
      ]
    },
    {
      "cell_type": "code",
      "metadata": {
        "id": "BKY6HscN1BW-"
      },
      "source": [
        "type(factura)"
      ],
      "execution_count": null,
      "outputs": []
    },
    {
      "cell_type": "code",
      "metadata": {
        "id": "vH_C1MLH1BaX"
      },
      "source": [
        "# Tuplas\n",
        "factura2 = ('pan', 'huevos', 100, 1234)\n",
        "factura2"
      ],
      "execution_count": null,
      "outputs": []
    },
    {
      "cell_type": "code",
      "metadata": {
        "id": "OlHKfidg1PoV"
      },
      "source": [
        "type(factura2)"
      ],
      "execution_count": null,
      "outputs": []
    },
    {
      "cell_type": "code",
      "metadata": {
        "id": "l9qDAV-h1nXn"
      },
      "source": [
        "# Diccionarios\n",
        "factura3 = {\"pan\":100,\"huevos\":1234}\n",
        "factura3"
      ],
      "execution_count": null,
      "outputs": []
    },
    {
      "cell_type": "code",
      "metadata": {
        "id": "7R5Jv45O1nil"
      },
      "source": [
        "type(factura3)"
      ],
      "execution_count": null,
      "outputs": []
    },
    {
      "cell_type": "code",
      "metadata": {
        "id": "TZ0JycAC24rG"
      },
      "source": [
        "factura3[\"pan\"]"
      ],
      "execution_count": null,
      "outputs": []
    },
    {
      "cell_type": "code",
      "metadata": {
        "id": "-aPljEEj1Psc"
      },
      "source": [
        "# Diferencia entre Lista y Tupla\n",
        "factura[0]=1\n",
        "factura"
      ],
      "execution_count": null,
      "outputs": []
    },
    {
      "cell_type": "code",
      "metadata": {
        "colab": {
          "base_uri": "https://localhost:8080/"
        },
        "id": "PWHu6z4l1a0N",
        "outputId": "b9ca374d-198a-433d-9199-7f89bafa6832"
      },
      "source": [
        "try:\n",
        "  factura2[0]=1\n",
        "except:\n",
        "  print(\"Error, no se puede modificar una tupla\")\n",
        "factura2"
      ],
      "execution_count": null,
      "outputs": [
        {
          "output_type": "stream",
          "name": "stdout",
          "text": [
            "Error, no se puede modificar una tupla\n"
          ]
        },
        {
          "output_type": "execute_result",
          "data": {
            "text/plain": [
              "('pan', 'huevos', 100, 1234)"
            ]
          },
          "metadata": {},
          "execution_count": 111
        }
      ]
    },
    {
      "cell_type": "markdown",
      "metadata": {
        "id": "OfI2yyp_34Au"
      },
      "source": [
        "### 4. Estructuras de control"
      ]
    },
    {
      "cell_type": "code",
      "metadata": {
        "colab": {
          "base_uri": "https://localhost:8080/"
        },
        "id": "GP212Pte1a5q",
        "outputId": "0ab5b8fa-bec4-4180-8f41-5ce5dd49bc77"
      },
      "source": [
        "# Concicion IF\n",
        "x=4\n",
        "y=4\n",
        "if x==y :\n",
        "  print(\"Son iguales\")\n",
        "elif x>y:\n",
        "  print(x,\" es mayor que \",y)\n",
        "else:\n",
        "  print(x,\" es menor que \",y)\n"
      ],
      "execution_count": null,
      "outputs": [
        {
          "output_type": "stream",
          "name": "stdout",
          "text": [
            "Son iguales\n"
          ]
        }
      ]
    },
    {
      "cell_type": "markdown",
      "metadata": {
        "id": "0c4S9Vje6vse"
      },
      "source": [
        " La suma de los primeros $N$ números es $\\sum_{i=1}^{n} i = \\frac{(n) \\times (n+1)}{2} $"
      ]
    },
    {
      "cell_type": "code",
      "metadata": {
        "colab": {
          "base_uri": "https://localhost:8080/"
        },
        "id": "bF33nT-B2X6f",
        "outputId": "1a8cf296-6838-4c5c-cb76-06a5a60e1958"
      },
      "source": [
        "# Bucle While\n",
        "numero=1\n",
        "suma=0\n",
        "while numero <= 10:\n",
        "    suma = numero + suma\n",
        "    numero = numero + 1\n",
        "print (\"La suma de los primeros \"+ str(numero-1) +\" números es \"+ str(suma))"
      ],
      "execution_count": null,
      "outputs": [
        {
          "output_type": "stream",
          "name": "stdout",
          "text": [
            "La suma de los primeros 10 números es 55\n"
          ]
        }
      ]
    },
    {
      "cell_type": "code",
      "metadata": {
        "colab": {
          "base_uri": "https://localhost:8080/"
        },
        "id": "ltuDFixN2X-e",
        "outputId": "7a0e89e2-f910-4ff5-b92f-491b5a978a2b"
      },
      "source": [
        "# Bucle For\n",
        "suma=0\n",
        "for i in range(10):\n",
        "  suma+=i\n",
        "print (\"La suma de los primeros \"+ str(i) +\" números es \"+ str(suma)) # Se puede observar que no toma el último\n"
      ],
      "execution_count": 43,
      "outputs": [
        {
          "output_type": "stream",
          "name": "stdout",
          "text": [
            "La suma de los primeros 9 números es 45\n"
          ]
        }
      ]
    },
    {
      "cell_type": "markdown",
      "metadata": {
        "id": "rFLb_oo91Hyp"
      },
      "source": [
        "A veces es bueno usar los bucles en su forma extendida, sin embargo, a fin de ser mas eficiente Python ofrece formas comprimidas para realizar bucles y consultas.\n",
        "Mas informacion en:\n",
        "https://www.pythonforbeginners.com/basics/list-comprehensions-in-python "
      ]
    },
    {
      "cell_type": "code",
      "metadata": {
        "colab": {
          "base_uri": "https://localhost:8080/"
        },
        "id": "zaBOmmmIzIqH",
        "outputId": "487638bc-0be3-4637-f72b-f3a951d4d5b3"
      },
      "source": [
        "# Metodos Comprimidos\n",
        "comp1=[ x*3 for x in range(10) ]\n",
        "comp2=[ x for x in range(1,20) if x % 2 == 0]\n",
        "print(comp1)\n",
        "print(comp2)"
      ],
      "execution_count": 48,
      "outputs": [
        {
          "output_type": "stream",
          "name": "stdout",
          "text": [
            "[0, 3, 6, 9, 12, 15, 18, 21, 24, 27]\n",
            "[2, 4, 6, 8, 10, 12, 14, 16, 18]\n"
          ]
        }
      ]
    },
    {
      "cell_type": "code",
      "metadata": {
        "colab": {
          "base_uri": "https://localhost:8080/"
        },
        "id": "v0Ez8XI20RiL",
        "outputId": "90be319c-f5ad-4977-fffc-2d98300278db"
      },
      "source": [
        "comparacion = ['A','B','C','D', 'E', 'F', 'G', 'H']\n",
        "pivote=['N','C','D','F','H']\n",
        "opc1=[x in pivote for x in comparacion]\n",
        "opc2=[int(x in pivote) for x in comparacion]\n",
        "print(opc1)\n",
        "print(opc2)"
      ],
      "execution_count": 50,
      "outputs": [
        {
          "output_type": "stream",
          "name": "stdout",
          "text": [
            "[False, False, True, True, False, True, False, True]\n",
            "[0, 0, 1, 1, 0, 1, 0, 1]\n"
          ]
        }
      ]
    },
    {
      "cell_type": "markdown",
      "metadata": {
        "id": "9e_6H4yQP1TF"
      },
      "source": [
        "### 5. Carga y manipulación de datos"
      ]
    },
    {
      "cell_type": "code",
      "metadata": {
        "id": "00dm-h9s2YBt",
        "colab": {
          "base_uri": "https://localhost:8080/",
          "height": 202
        },
        "outputId": "d2660514-495a-45cc-ad71-e2fc76438a44"
      },
      "source": [
        "# Si no se cuenta con datos se puede simular los datos\n",
        "import numpy as np\n",
        "import pandas as pd\n",
        "a=pd.DataFrame(np.full(10000,'CLI'))\n",
        "b=pd.DataFrame(np.arange(100000)).astype(str)\n",
        "data0=a+b\n",
        "data0.columns=['ID']\n",
        "data1=pd.DataFrame(np.random.normal(0,1,100000),columns=['Normal'])\n",
        "data2=pd.DataFrame(np.random.poisson(1,100000),columns=['Poisson'])\n",
        "data3=pd.DataFrame(np.random.logistic(1,2,100000),columns=['Logistic'])\n",
        "data=pd.concat([data0,data1,data2,data3],axis=1)\n",
        "data.head()"
      ],
      "execution_count": 85,
      "outputs": [
        {
          "output_type": "execute_result",
          "data": {
            "text/html": [
              "<div>\n",
              "<style scoped>\n",
              "    .dataframe tbody tr th:only-of-type {\n",
              "        vertical-align: middle;\n",
              "    }\n",
              "\n",
              "    .dataframe tbody tr th {\n",
              "        vertical-align: top;\n",
              "    }\n",
              "\n",
              "    .dataframe thead th {\n",
              "        text-align: right;\n",
              "    }\n",
              "</style>\n",
              "<table border=\"1\" class=\"dataframe\">\n",
              "  <thead>\n",
              "    <tr style=\"text-align: right;\">\n",
              "      <th></th>\n",
              "      <th>ID</th>\n",
              "      <th>Normal</th>\n",
              "      <th>Poisson</th>\n",
              "      <th>Logistic</th>\n",
              "    </tr>\n",
              "  </thead>\n",
              "  <tbody>\n",
              "    <tr>\n",
              "      <th>0</th>\n",
              "      <td>CLI0</td>\n",
              "      <td>-0.974680</td>\n",
              "      <td>1</td>\n",
              "      <td>3.925196</td>\n",
              "    </tr>\n",
              "    <tr>\n",
              "      <th>1</th>\n",
              "      <td>CLI1</td>\n",
              "      <td>1.345775</td>\n",
              "      <td>0</td>\n",
              "      <td>3.864155</td>\n",
              "    </tr>\n",
              "    <tr>\n",
              "      <th>2</th>\n",
              "      <td>CLI2</td>\n",
              "      <td>2.238701</td>\n",
              "      <td>1</td>\n",
              "      <td>0.628829</td>\n",
              "    </tr>\n",
              "    <tr>\n",
              "      <th>3</th>\n",
              "      <td>CLI3</td>\n",
              "      <td>-1.244639</td>\n",
              "      <td>2</td>\n",
              "      <td>-3.121305</td>\n",
              "    </tr>\n",
              "    <tr>\n",
              "      <th>4</th>\n",
              "      <td>CLI4</td>\n",
              "      <td>-1.020730</td>\n",
              "      <td>1</td>\n",
              "      <td>-7.707243</td>\n",
              "    </tr>\n",
              "  </tbody>\n",
              "</table>\n",
              "</div>"
            ],
            "text/plain": [
              "     ID    Normal  Poisson  Logistic\n",
              "0  CLI0 -0.974680        1  3.925196\n",
              "1  CLI1  1.345775        0  3.864155\n",
              "2  CLI2  2.238701        1  0.628829\n",
              "3  CLI3 -1.244639        2 -3.121305\n",
              "4  CLI4 -1.020730        1 -7.707243"
            ]
          },
          "metadata": {},
          "execution_count": 85
        }
      ]
    },
    {
      "cell_type": "code",
      "metadata": {
        "colab": {
          "base_uri": "https://localhost:8080/"
        },
        "id": "5ET5ry1dAIIQ",
        "outputId": "b58723b3-886a-4672-978d-c39a870f8b89"
      },
      "source": [
        "# Importar desde el Drive\n",
        "from google.colab import drive\n",
        "drive.mount(\"/content/drive/\")"
      ],
      "execution_count": 134,
      "outputs": [
        {
          "output_type": "stream",
          "name": "stdout",
          "text": [
            "Drive already mounted at /content/drive/; to attempt to forcibly remount, call drive.mount(\"/content/drive/\", force_remount=True).\n"
          ]
        }
      ]
    },
    {
      "cell_type": "code",
      "metadata": {
        "colab": {
          "base_uri": "https://localhost:8080/",
          "height": 202
        },
        "id": "AoHDrCSTBv3g",
        "outputId": "263bfa96-eb7d-47e3-d01e-a6f87838d0db"
      },
      "source": [
        "data2=pd.read_csv(\"/content/drive/MyDrive/bank_deposit.csv\")\n",
        "data2.head()"
      ],
      "execution_count": 136,
      "outputs": [
        {
          "output_type": "execute_result",
          "data": {
            "text/html": [
              "<div>\n",
              "<style scoped>\n",
              "    .dataframe tbody tr th:only-of-type {\n",
              "        vertical-align: middle;\n",
              "    }\n",
              "\n",
              "    .dataframe tbody tr th {\n",
              "        vertical-align: top;\n",
              "    }\n",
              "\n",
              "    .dataframe thead th {\n",
              "        text-align: right;\n",
              "    }\n",
              "</style>\n",
              "<table border=\"1\" class=\"dataframe\">\n",
              "  <thead>\n",
              "    <tr style=\"text-align: right;\">\n",
              "      <th></th>\n",
              "      <th>idcliente</th>\n",
              "      <th>duration</th>\n",
              "      <th>previous</th>\n",
              "      <th>housing</th>\n",
              "      <th>campaign</th>\n",
              "      <th>loan</th>\n",
              "      <th>default</th>\n",
              "      <th>target</th>\n",
              "      <th>muestra</th>\n",
              "    </tr>\n",
              "  </thead>\n",
              "  <tbody>\n",
              "    <tr>\n",
              "      <th>0</th>\n",
              "      <td>1</td>\n",
              "      <td>261</td>\n",
              "      <td>0</td>\n",
              "      <td>1</td>\n",
              "      <td>1</td>\n",
              "      <td>0</td>\n",
              "      <td>0</td>\n",
              "      <td>0</td>\n",
              "      <td>1</td>\n",
              "    </tr>\n",
              "    <tr>\n",
              "      <th>1</th>\n",
              "      <td>2</td>\n",
              "      <td>50</td>\n",
              "      <td>0</td>\n",
              "      <td>1</td>\n",
              "      <td>1</td>\n",
              "      <td>0</td>\n",
              "      <td>0</td>\n",
              "      <td>0</td>\n",
              "      <td>1</td>\n",
              "    </tr>\n",
              "    <tr>\n",
              "      <th>2</th>\n",
              "      <td>3</td>\n",
              "      <td>1492</td>\n",
              "      <td>0</td>\n",
              "      <td>1</td>\n",
              "      <td>1</td>\n",
              "      <td>0</td>\n",
              "      <td>0</td>\n",
              "      <td>0</td>\n",
              "      <td>1</td>\n",
              "    </tr>\n",
              "    <tr>\n",
              "      <th>3</th>\n",
              "      <td>4</td>\n",
              "      <td>104</td>\n",
              "      <td>0</td>\n",
              "      <td>1</td>\n",
              "      <td>1</td>\n",
              "      <td>0</td>\n",
              "      <td>0</td>\n",
              "      <td>0</td>\n",
              "      <td>1</td>\n",
              "    </tr>\n",
              "    <tr>\n",
              "      <th>4</th>\n",
              "      <td>5</td>\n",
              "      <td>13</td>\n",
              "      <td>0</td>\n",
              "      <td>1</td>\n",
              "      <td>1</td>\n",
              "      <td>0</td>\n",
              "      <td>0</td>\n",
              "      <td>0</td>\n",
              "      <td>1</td>\n",
              "    </tr>\n",
              "  </tbody>\n",
              "</table>\n",
              "</div>"
            ],
            "text/plain": [
              "   idcliente  duration  previous  housing  ...  loan  default  target  muestra\n",
              "0          1       261         0        1  ...     0        0       0        1\n",
              "1          2        50         0        1  ...     0        0       0        1\n",
              "2          3      1492         0        1  ...     0        0       0        1\n",
              "3          4       104         0        1  ...     0        0       0        1\n",
              "4          5        13         0        1  ...     0        0       0        1\n",
              "\n",
              "[5 rows x 9 columns]"
            ]
          },
          "metadata": {},
          "execution_count": 136
        }
      ]
    },
    {
      "cell_type": "code",
      "metadata": {
        "colab": {
          "base_uri": "https://localhost:8080/",
          "height": 202
        },
        "id": "ZqMSnGHVCC5f",
        "outputId": "10dd2f00-31d4-451d-a94e-1cc0e55a6086"
      },
      "source": [
        "# Importar desde la web\n",
        "data3 = pd.read_csv('https://raw.githubusercontent.com/HackSpacePeru/Datasets_intro_Data_Science/master/google_playstore.csv')\n",
        "data3.head()"
      ],
      "execution_count": 137,
      "outputs": [
        {
          "output_type": "execute_result",
          "data": {
            "text/html": [
              "<div>\n",
              "<style scoped>\n",
              "    .dataframe tbody tr th:only-of-type {\n",
              "        vertical-align: middle;\n",
              "    }\n",
              "\n",
              "    .dataframe tbody tr th {\n",
              "        vertical-align: top;\n",
              "    }\n",
              "\n",
              "    .dataframe thead th {\n",
              "        text-align: right;\n",
              "    }\n",
              "</style>\n",
              "<table border=\"1\" class=\"dataframe\">\n",
              "  <thead>\n",
              "    <tr style=\"text-align: right;\">\n",
              "      <th></th>\n",
              "      <th>Category</th>\n",
              "      <th>Rating</th>\n",
              "      <th>Reviews</th>\n",
              "      <th>Installs</th>\n",
              "      <th>Type</th>\n",
              "      <th>Price</th>\n",
              "      <th>Content Rating</th>\n",
              "      <th>Genres</th>\n",
              "      <th>Android Ver</th>\n",
              "    </tr>\n",
              "  </thead>\n",
              "  <tbody>\n",
              "    <tr>\n",
              "      <th>0</th>\n",
              "      <td>133</td>\n",
              "      <td>1.0</td>\n",
              "      <td>149723</td>\n",
              "      <td>541</td>\n",
              "      <td>Free</td>\n",
              "      <td>0.0</td>\n",
              "      <td>4764</td>\n",
              "      <td>0.768336</td>\n",
              "      <td>761</td>\n",
              "    </tr>\n",
              "    <tr>\n",
              "      <th>1</th>\n",
              "      <td>219</td>\n",
              "      <td>0.0</td>\n",
              "      <td>853</td>\n",
              "      <td>661</td>\n",
              "      <td>Free</td>\n",
              "      <td>0.0</td>\n",
              "      <td>4764</td>\n",
              "      <td>0.641972</td>\n",
              "      <td>1317</td>\n",
              "    </tr>\n",
              "    <tr>\n",
              "      <th>2</th>\n",
              "      <td>67</td>\n",
              "      <td>1.0</td>\n",
              "      <td>61881</td>\n",
              "      <td>356</td>\n",
              "      <td>Free</td>\n",
              "      <td>0.0</td>\n",
              "      <td>4764</td>\n",
              "      <td>1.172458</td>\n",
              "      <td>582</td>\n",
              "    </tr>\n",
              "    <tr>\n",
              "      <th>3</th>\n",
              "      <td>508</td>\n",
              "      <td>0.0</td>\n",
              "      <td>21943</td>\n",
              "      <td>356</td>\n",
              "      <td>Free</td>\n",
              "      <td>0.0</td>\n",
              "      <td>4764</td>\n",
              "      <td>0.757642</td>\n",
              "      <td>381</td>\n",
              "    </tr>\n",
              "    <tr>\n",
              "      <th>4</th>\n",
              "      <td>1114</td>\n",
              "      <td>1.0</td>\n",
              "      <td>6</td>\n",
              "      <td>536</td>\n",
              "      <td>Free</td>\n",
              "      <td>0.0</td>\n",
              "      <td>4764</td>\n",
              "      <td>1.058965</td>\n",
              "      <td>1317</td>\n",
              "    </tr>\n",
              "  </tbody>\n",
              "</table>\n",
              "</div>"
            ],
            "text/plain": [
              "   Category  Rating  Reviews  ...  Content Rating    Genres  Android Ver\n",
              "0       133     1.0   149723  ...            4764  0.768336          761\n",
              "1       219     0.0      853  ...            4764  0.641972         1317\n",
              "2        67     1.0    61881  ...            4764  1.172458          582\n",
              "3       508     0.0    21943  ...            4764  0.757642          381\n",
              "4      1114     1.0        6  ...            4764  1.058965         1317\n",
              "\n",
              "[5 rows x 9 columns]"
            ]
          },
          "metadata": {},
          "execution_count": 137
        }
      ]
    },
    {
      "cell_type": "markdown",
      "metadata": {
        "id": "90uAOha7-Ybp"
      },
      "source": [
        "### 6. Visualizacion de Datos"
      ]
    },
    {
      "cell_type": "code",
      "metadata": {
        "id": "4pcwYeCJ2YE2",
        "colab": {
          "base_uri": "https://localhost:8080/",
          "height": 264
        },
        "outputId": "6b51d6a7-0ea7-46e6-ac65-c8974b26576b"
      },
      "source": [
        "# Histograma\n",
        "import matplotlib.pyplot as plt\n",
        "g1=plt.hist(data['Normal'], bins=50, density=True)\n",
        "plt.show()"
      ],
      "execution_count": 133,
      "outputs": [
        {
          "output_type": "display_data",
          "data": {
            "image/png": "[encoded data removed]",
            "text/plain": [
              "<Figure size 432x288 with 1 Axes>"
            ]
          },
          "metadata": {
            "needs_background": "light"
          }
        }
      ]
    },
    {
      "cell_type": "code",
      "metadata": {
        "colab": {
          "base_uri": "https://localhost:8080/",
          "height": 264
        },
        "id": "5SRk6uoz6Fpp",
        "outputId": "0824c68c-0445-49d0-cd27-ee903d1e12e6"
      },
      "source": [
        "# Grafica de distribucion\n",
        "g2=plt.scatter(data['Normal'],data['Logistic'],label='data', color='green')\n",
        "plt.show()"
      ],
      "execution_count": 128,
      "outputs": [
        {
          "output_type": "display_data",
          "data": {
            "image/png": "[encoded data removed]",
            "text/plain": [
              "<Figure size 432x288 with 1 Axes>"
            ]
          },
          "metadata": {
            "needs_background": "light"
          }
        }
      ]
    },
    {
      "cell_type": "code",
      "metadata": {
        "colab": {
          "base_uri": "https://localhost:8080/",
          "height": 374
        },
        "id": "p3HH-M3u7Ww6",
        "outputId": "ac2a6d9b-e184-4747-f3a3-e9d7f27a1f13"
      },
      "source": [
        "# Uniendo varias variables\n",
        "plt.figure(figsize=(12,6))\n",
        "plt.subplot(1, 2, 1)\n",
        "plt.hist(data['Normal'], bins=50, density=True)\n",
        "plt.subplot(1, 2, 2)\n",
        "plt.scatter(data['Normal'],data['Logistic'],label='data', color='green')\n",
        "plt.show()"
      ],
      "execution_count": 129,
      "outputs": [
        {
          "output_type": "display_data",
          "data": {
            "image/png": "[encoded data removed]",
            "text/plain": [
              "<Figure size 864x432 with 2 Axes>"
            ]
          },
          "metadata": {
            "needs_background": "light"
          }
        }
      ]
    },
    {
      "cell_type": "markdown",
      "metadata": {
        "id": "lnHt2NYazBqO"
      },
      "source": [
        "Links: \n",
        "- https://entrenamiento-python-basico.readthedocs.io/es/latest/index.html\n"
      ]
    }
  ]
}