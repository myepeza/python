{
  "nbformat": 4,
  "nbformat_minor": 0,
  "metadata": {
    "colab": {
      "name": "Introduccion Python DS.ipynb",
      "provenance": [],
      "collapsed_sections": []
    },
    "kernelspec": {
      "name": "python3",
      "display_name": "Python 3"
    },
    "language_info": {
      "name": "python"
    }
  },
  "cells": [
    {
      "cell_type": "markdown",
      "metadata": {
        "id": "dbqDXLnYfNJn"
      },
      "source": [
        "# **Introducción a Python para Data Science**\n",
        "### Grupo de Estudio Scikit-Learn\n",
        "Autor: Miguel Yepez"
      ]
    },
    {
      "cell_type": "markdown",
      "metadata": {
        "id": "MTmiGN8kfwSX"
      },
      "source": [
        "### 1. Variables y constantes"
      ]
    },
    {
      "cell_type": "markdown",
      "metadata": {
        "id": "3OIRMGzzg5aA"
      },
      "source": [
        "- Variable: Es un nombre que se refiere a un objeto que reside en la memoria. Cada variable debe tener un nombre único llamado identificador. Eso es muy de ayuda pensar las variables como contenedores que contienen data el cual puede ser cambiado después a través de técnicas de programación.\n",
        "- Constantes: Una constante es un tipo de variable la cual no puede ser cambiada. Eso es muy de ayuda pensar las constantes como contenedores que contienen información el cual no puede ser cambiado después."
      ]
    },
    {
      "cell_type": "code",
      "metadata": {
        "colab": {
          "base_uri": "https://localhost:8080/"
        },
        "id": "eEC_3UadfKEf",
        "outputId": "76247d3d-7095-4f8e-f766-18e407421f58"
      },
      "source": [
        "# Definamos variables\n",
        "a='Grupo de estudio'\n",
        "print(a)\n",
        "a=123\n",
        "print(a)\n",
        "a=1.52\n",
        "print(a)\n",
        "a=True\n",
        "print(a)"
      ],
      "execution_count": 12,
      "outputs": [
        {
          "output_type": "stream",
          "name": "stdout",
          "text": [
            "Grupo de estudio\n",
            "123\n",
            "1.52\n",
            "True\n"
          ]
        }
      ]
    },
    {
      "cell_type": "code",
      "metadata": {
        "colab": {
          "base_uri": "https://localhost:8080/"
        },
        "id": "iVNENTsMfKMH",
        "outputId": "45533bb5-8c99-4a08-c820-9c678bbaae57"
      },
      "source": [
        "# Como saber el tipo de dato\n",
        "type(a)"
      ],
      "execution_count": 13,
      "outputs": [
        {
          "output_type": "execute_result",
          "data": {
            "text/plain": [
              "bool"
            ]
          },
          "metadata": {},
          "execution_count": 13
        }
      ]
    },
    {
      "cell_type": "code",
      "metadata": {
        "colab": {
          "base_uri": "https://localhost:8080/"
        },
        "id": "z_5IiocNiMnH",
        "outputId": "6715bf1f-4ebc-4b64-f941-d8ac224a4f3e"
      },
      "source": [
        "# Asignar multiples valores a variables\n",
        "a,b,c=1,2.5,'Hola'\n",
        "print(a,b,c)"
      ],
      "execution_count": 14,
      "outputs": [
        {
          "output_type": "stream",
          "name": "stdout",
          "text": [
            "1 2.5 Hola\n"
          ]
        }
      ]
    },
    {
      "cell_type": "code",
      "metadata": {
        "colab": {
          "base_uri": "https://localhost:8080/"
        },
        "id": "Sz-1XWceiM2B",
        "outputId": "c0bebbda-fa55-496b-bec6-ac020b124b04"
      },
      "source": [
        "# Asignar el mismo valor a varias variables\n",
        "a=b=c=d=1\n",
        "print(a,b,c,d)"
      ],
      "execution_count": 15,
      "outputs": [
        {
          "output_type": "stream",
          "name": "stdout",
          "text": [
            "1 1 1 1\n"
          ]
        }
      ]
    },
    {
      "cell_type": "code",
      "metadata": {
        "colab": {
          "base_uri": "https://localhost:8080/"
        },
        "id": "LpXcJu6ZiND5",
        "outputId": "ccef9577-51b5-411e-fb88-f5cccd6f974b"
      },
      "source": [
        "# Definamos constantes\n",
        "pi=3.1416\n",
        "grav=9.81\n",
        "print('El valor de Pi es',pi,' y el valor de la constante de la gravedad es',grav)"
      ],
      "execution_count": 18,
      "outputs": [
        {
          "output_type": "stream",
          "name": "stdout",
          "text": [
            "El valor de Pi es 3.1416  y el valor de la constante de la gravedad es 9.81\n"
          ]
        }
      ]
    },
    {
      "cell_type": "code",
      "metadata": {
        "colab": {
          "base_uri": "https://localhost:8080/"
        },
        "id": "4TSKPNcsiNhG",
        "outputId": "3ae5b379-acfc-461c-be8a-0390ecfba1ba"
      },
      "source": [
        "# Usando librerias de Python para el valor de constantes\n",
        "import math\n",
        "print(math.pi)\n",
        "print(math.e)\n",
        "print(math.nan)"
      ],
      "execution_count": 35,
      "outputs": [
        {
          "output_type": "stream",
          "name": "stdout",
          "text": [
            "3.141592653589793\n",
            "2.718281828459045\n",
            "nan\n"
          ]
        }
      ]
    },
    {
      "cell_type": "markdown",
      "metadata": {
        "id": "TDiaFlO0kzqh"
      },
      "source": [
        "<img src=\"https://gravedad.net/wp-content/uploads/2018/04/que-es-constante-gravitacional.jpg\" width=\"350\" height=\"250\">"
      ]
    },
    {
      "cell_type": "code",
      "metadata": {
        "colab": {
          "base_uri": "https://localhost:8080/"
        },
        "id": "wjjyTvOCjqtO",
        "outputId": "cdea2a59-e6cd-48a4-e6ee-4aaa9305e610"
      },
      "source": [
        "from scipy import constants\n",
        "print(constants.gravitational_constant)\n",
        "print(constants.horsepower)"
      ],
      "execution_count": 31,
      "outputs": [
        {
          "output_type": "stream",
          "name": "stdout",
          "text": [
            "6.6743e-11\n",
            "745.6998715822701\n"
          ]
        }
      ]
    },
    {
      "cell_type": "markdown",
      "metadata": {
        "id": "Cwh6QjJ1nGQv"
      },
      "source": [
        "No hay reglas exactas para el nombramiento de variables, sin embargo, se suelen seguir buenas prácticas de programación.\n",
        "- No usar simbolos especiales: #, @ ,$ ,etc.\n",
        "- El primer carácter no puede ser un número.\n",
        "- Los nombres de constante y variable debería tener la combinación de letras en minúsculas (de a a la z) o MAYÚSCULAS (de la A a la Z) o dígitos (del 0 al 9) o un underscore (_). Por ejemplo:\n",
        " - snake_case\n",
        " - MACRO_CASE\n",
        " - camelCase\n",
        " - CapWords\n",
        "- Los nombres que comienzan con guión bajo (simple _ o doble __) se reservan para variables con significado especial.\n",
        "- No pueden usarse palabras reservadas: TRUE, FALSE, FOR, etc."
      ]
    },
    {
      "cell_type": "markdown",
      "metadata": {
        "id": "IxPJQz08uYAH"
      },
      "source": [
        "### 2. Operadores matemáticos"
      ]
    },
    {
      "cell_type": "code",
      "metadata": {
        "colab": {
          "base_uri": "https://localhost:8080/"
        },
        "id": "OJV_6q3QueFc",
        "outputId": "3446eb75-e5ab-4b1d-d121-eae25b106c40"
      },
      "source": [
        "# Básicos\n",
        "print(\"Suma :\",2+2)\n",
        "print(\"Multiplicación :\",3*4)\n",
        "print(\"Potenciación :\",2**6)\n",
        "print(\"División :\",5/2)\n",
        "print(\"División Entera :\",5//2)\n",
        "print(\"Módulo :\",5%2)"
      ],
      "execution_count": 74,
      "outputs": [
        {
          "output_type": "stream",
          "name": "stdout",
          "text": [
            "Suma : 4\n",
            "Multiplicación : 12\n",
            "Potenciación : 64\n",
            "División : 2.5\n",
            "División Entera : 2\n",
            "Módulo : 1\n"
          ]
        }
      ]
    },
    {
      "cell_type": "code",
      "metadata": {
        "colab": {
          "base_uri": "https://localhost:8080/"
        },
        "id": "bJ4vUjOOuoKF",
        "outputId": "46e13b00-a9ee-4184-9edc-33e0064b3c60"
      },
      "source": [
        "# De comparación\n",
        "print(\"1 es igual a 2 :\",1==2)\n",
        "print(\"1 es difente de 2 :\",1!=2)\n",
        "print(\"1 es menor que 2 :\",1<2)\n",
        "print(\"1 es mayor igual que 2 :\",1>=2)"
      ],
      "execution_count": 81,
      "outputs": [
        {
          "output_type": "stream",
          "name": "stdout",
          "text": [
            "1 es igual a 2 : False\n",
            "1 es difente de 2 : True\n",
            "1 es menor que 2 : True\n",
            "1 es mayor igual que 2 : False\n"
          ]
        }
      ]
    },
    {
      "cell_type": "code",
      "metadata": {
        "colab": {
          "base_uri": "https://localhost:8080/"
        },
        "id": "R3X7lydhvr9u",
        "outputId": "f9439e2a-2862-435f-d75c-1d7f33438d06"
      },
      "source": [
        "# Operadores con Atajos\n",
        "a=5\n",
        "a=a+10\n",
        "print(a)\n",
        "b=5\n",
        "b+=10\n",
        "print(b)\n",
        "c=5\n",
        "c=+10\n",
        "print(c)\n",
        "d=5\n",
        "d**=4\n",
        "print(d)"
      ],
      "execution_count": 89,
      "outputs": [
        {
          "output_type": "stream",
          "name": "stdout",
          "text": [
            "15\n",
            "15\n",
            "10\n",
            "625\n"
          ]
        }
      ]
    },
    {
      "cell_type": "code",
      "metadata": {
        "id": "XAYU1fjUvsA1"
      },
      "source": [
        ""
      ],
      "execution_count": null,
      "outputs": []
    }
  ]
}